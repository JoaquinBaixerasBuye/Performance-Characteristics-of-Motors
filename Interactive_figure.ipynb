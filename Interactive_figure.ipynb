{
  "nbformat": 4,
  "nbformat_minor": 0,
  "metadata": {
    "colab": {
      "provenance": []
    },
    "kernelspec": {
      "name": "python3",
      "display_name": "Python 3"
    },
    "language_info": {
      "name": "python"
    },
    "widgets": {
      "application/vnd.jupyter.widget-state+json": {
        "ccda282518604be795326bdbd050910e": {
          "model_module": "@jupyter-widgets/controls",
          "model_name": "VBoxModel",
          "model_module_version": "1.5.0",
          "state": {
            "_dom_classes": [],
            "_model_module": "@jupyter-widgets/controls",
            "_model_module_version": "1.5.0",
            "_model_name": "VBoxModel",
            "_view_count": null,
            "_view_module": "@jupyter-widgets/controls",
            "_view_module_version": "1.5.0",
            "_view_name": "VBoxView",
            "box_style": "",
            "children": [
              "IPY_MODEL_606038ab6fe249d9902340aadb481b46",
              "IPY_MODEL_b450ecf5d1a24f87bd42ed86adc96e88",
              "IPY_MODEL_e92214fb21c942ff884fd111074693b4"
            ],
            "layout": "IPY_MODEL_2bc9f859ba7f4e6bafcaa51f09645da9"
          }
        },
        "606038ab6fe249d9902340aadb481b46": {
          "model_module": "jupyterlab-plotly",
          "model_name": "FigureModel",
          "model_module_version": "^5.24.1",
          "state": {
            "_config": {
              "plotlyServerURL": "https://plot.ly"
            },
            "_data": [
              {
                "hovertemplate": "%{x}: %{y:.3f}<extra></extra>",
                "marker": {
                  "color": [
                    "#007134",
                    "#7fb799",
                    "#BA0D20",
                    "#dc858f",
                    "#9292C9",
                    "#9292C9",
                    "#9292C9",
                    "#9292C9"
                  ],
                  "line": {
                    "color": "black",
                    "width": 1
                  }
                },
                "showlegend": false,
                "x": [
                  "F",
                  "F⁺",
                  "B",
                  "B⁺",
                  "S",
                  "S⁺",
                  "C",
                  "C⁺"
                ],
                "xaxis": "x",
                "y": [
                  0,
                  0,
                  0,
                  0,
                  0,
                  0,
                  0,
                  0
                ],
                "yaxis": "y",
                "type": "bar",
                "uid": "4e3e120c-b541-4736-9e94-af3f1a2468f6"
              },
              {
                "hovertemplate": "F: %{y:.3f}<extra></extra>",
                "marker": {
                  "color": "#007134",
                  "line": {
                    "color": "black",
                    "width": 1
                  }
                },
                "name": "F",
                "showlegend": false,
                "x": [
                  "cw",
                  "ccw"
                ],
                "xaxis": "x2",
                "y": [
                  0,
                  0
                ],
                "yaxis": "y2",
                "type": "bar",
                "uid": "86bece96-78ae-467a-bee2-58f9ce09d34d"
              },
              {
                "hovertemplate": "B⁺: %{y:.3f}<extra></extra>",
                "marker": {
                  "color": "#dc858f",
                  "line": {
                    "color": "black",
                    "width": 1
                  }
                },
                "name": "B⁺",
                "showlegend": false,
                "x": [
                  "cw",
                  "ccw"
                ],
                "xaxis": "x2",
                "y": [
                  0,
                  0
                ],
                "yaxis": "y2",
                "type": "bar",
                "uid": "79d2bf2e-7dd4-4329-a2c6-0dab002be335"
              },
              {
                "hovertemplate": "S: %{y:.3f}<extra></extra>",
                "marker": {
                  "color": "#9292C9",
                  "line": {
                    "color": "black",
                    "width": 1
                  }
                },
                "name": "S",
                "showlegend": false,
                "x": [
                  "cw",
                  "ccw"
                ],
                "xaxis": "x2",
                "y": [
                  0,
                  0
                ],
                "yaxis": "y2",
                "type": "bar",
                "uid": "0f3b0a25-5ae9-47d9-865c-6e7aef6378bb"
              },
              {
                "hovertemplate": "F⁺: %{y:.3f}<extra></extra>",
                "marker": {
                  "color": "#7fb799",
                  "line": {
                    "color": "black",
                    "width": 1
                  }
                },
                "name": "F⁺",
                "showlegend": false,
                "x": [
                  "cw",
                  "ccw"
                ],
                "xaxis": "x2",
                "y": [
                  0,
                  0
                ],
                "yaxis": "y2",
                "type": "bar",
                "uid": "cb896cf5-4ddf-4769-b79f-017f8e1ca3d3"
              },
              {
                "hovertemplate": "B: %{y:.3f}<extra></extra>",
                "marker": {
                  "color": "#BA0D20",
                  "line": {
                    "color": "black",
                    "width": 1
                  }
                },
                "name": "B",
                "showlegend": false,
                "x": [
                  "cw",
                  "ccw"
                ],
                "xaxis": "x2",
                "y": [
                  0,
                  0
                ],
                "yaxis": "y2",
                "type": "bar",
                "uid": "bda48927-a978-4fac-8e55-97a5b5685ad7"
              },
              {
                "hovertemplate": "S⁺: %{y:.3f}<extra></extra>",
                "marker": {
                  "color": "#9292C9",
                  "line": {
                    "color": "black",
                    "width": 1
                  }
                },
                "name": "S⁺",
                "showlegend": false,
                "x": [
                  "cw",
                  "ccw"
                ],
                "xaxis": "x2",
                "y": [
                  0,
                  0
                ],
                "yaxis": "y2",
                "type": "bar",
                "uid": "b6590435-3283-4433-913c-f5a26b2a1cc9"
              },
              {
                "hovertemplate": "F: %{y:.3f}<extra></extra>",
                "marker": {
                  "color": "#007134",
                  "line": {
                    "color": "black",
                    "width": 1
                  }
                },
                "name": "F",
                "showlegend": false,
                "x": [
                  "F→W",
                  "W→F"
                ],
                "xaxis": "x3",
                "y": [
                  0,
                  0
                ],
                "yaxis": "y3",
                "type": "bar",
                "uid": "61c508c6-8443-4c67-b380-16a45e51a3a6"
              },
              {
                "hovertemplate": "B: %{y:.3f}<extra></extra>",
                "marker": {
                  "color": "#BA0D20",
                  "line": {
                    "color": "black",
                    "width": 1
                  }
                },
                "name": "B",
                "showlegend": false,
                "x": [
                  "F→W",
                  "W→F"
                ],
                "xaxis": "x3",
                "y": [
                  0,
                  0
                ],
                "yaxis": "y3",
                "type": "bar",
                "uid": "edffc6ad-68b4-4ba7-8620-1b3a641a69af"
              },
              {
                "hovertemplate": "C: %{y:.3f}<extra></extra>",
                "marker": {
                  "color": "#9292C9",
                  "line": {
                    "color": "black",
                    "width": 1
                  }
                },
                "name": "C",
                "showlegend": false,
                "x": [
                  "F→W",
                  "W→F"
                ],
                "xaxis": "x3",
                "y": [
                  0,
                  0
                ],
                "yaxis": "y3",
                "type": "bar",
                "uid": "3fd0cd40-45d9-40cc-aeba-d29976cf2639"
              },
              {
                "hovertemplate": "F⁺: %{y:.3f}<extra></extra>",
                "marker": {
                  "color": "#7fb799",
                  "line": {
                    "color": "black",
                    "width": 1
                  }
                },
                "name": "F⁺",
                "showlegend": false,
                "x": [
                  "F→W",
                  "W→F"
                ],
                "xaxis": "x3",
                "y": [
                  0,
                  0
                ],
                "yaxis": "y3",
                "type": "bar",
                "uid": "492aa8eb-7ac2-441c-a9ef-21b045ae5037"
              },
              {
                "hovertemplate": "B⁺: %{y:.3f}<extra></extra>",
                "marker": {
                  "color": "#dc858f",
                  "line": {
                    "color": "black",
                    "width": 1
                  }
                },
                "name": "B⁺",
                "showlegend": false,
                "x": [
                  "F→W",
                  "W→F"
                ],
                "xaxis": "x3",
                "y": [
                  0,
                  0
                ],
                "yaxis": "y3",
                "type": "bar",
                "uid": "3559c1a8-b912-4d68-93bc-3cc3547817e2"
              },
              {
                "hovertemplate": "C⁺: %{y:.3f}<extra></extra>",
                "marker": {
                  "color": "#9292C9",
                  "line": {
                    "color": "black",
                    "width": 1
                  }
                },
                "name": "C⁺",
                "showlegend": false,
                "x": [
                  "F→W",
                  "W→F"
                ],
                "xaxis": "x3",
                "y": [
                  0,
                  0
                ],
                "yaxis": "y3",
                "type": "bar",
                "uid": "74d1f7a8-90a5-4662-ab75-b92c72a569a5"
              }
            ],
            "_dom_classes": [],
            "_js2py_layoutDelta": null,
            "_js2py_pointsCallback": null,
            "_js2py_relayout": {},
            "_js2py_restyle": {},
            "_js2py_traceDeltas": null,
            "_js2py_update": {},
            "_last_layout_edit_id": 211,
            "_last_trace_edit_id": 211,
            "_layout": {
              "annotations": [
                {
                  "font": {
                    "size": 16
                  },
                  "showarrow": false,
                  "text": "All fluxes",
                  "x": 0.24074074074074076,
                  "xanchor": "center",
                  "xref": "paper",
                  "y": 1,
                  "yanchor": "bottom",
                  "yref": "paper"
                },
                {
                  "font": {
                    "size": 16
                  },
                  "showarrow": false,
                  "text": "Rotation",
                  "x": 0.6444444444444444,
                  "xanchor": "center",
                  "xref": "paper",
                  "y": 1,
                  "yanchor": "bottom",
                  "yref": "paper"
                },
                {
                  "font": {
                    "size": 16
                  },
                  "showarrow": false,
                  "text": "Fuel",
                  "x": 0.9037037037037037,
                  "xanchor": "center",
                  "xref": "paper",
                  "y": 1,
                  "yanchor": "bottom",
                  "yref": "paper"
                }
              ],
              "bargap": 0.15,
              "barmode": "stack",
              "height": 450,
              "margin": {
                "b": 30,
                "l": 30,
                "r": 10,
                "t": 30
              },
              "template": {
                "data": {
                  "barpolar": [
                    {
                      "marker": {
                        "line": {
                          "color": "white",
                          "width": 0.5
                        },
                        "pattern": {
                          "fillmode": "overlay",
                          "size": 10,
                          "solidity": 0.2
                        }
                      },
                      "type": "barpolar"
                    }
                  ],
                  "bar": [
                    {
                      "error_x": {
                        "color": "rgb(36,36,36)"
                      },
                      "error_y": {
                        "color": "rgb(36,36,36)"
                      },
                      "marker": {
                        "line": {
                          "color": "white",
                          "width": 0.5
                        },
                        "pattern": {
                          "fillmode": "overlay",
                          "size": 10,
                          "solidity": 0.2
                        }
                      },
                      "type": "bar"
                    }
                  ],
                  "carpet": [
                    {
                      "aaxis": {
                        "endlinecolor": "rgb(36,36,36)",
                        "gridcolor": "white",
                        "linecolor": "white",
                        "minorgridcolor": "white",
                        "startlinecolor": "rgb(36,36,36)"
                      },
                      "baxis": {
                        "endlinecolor": "rgb(36,36,36)",
                        "gridcolor": "white",
                        "linecolor": "white",
                        "minorgridcolor": "white",
                        "startlinecolor": "rgb(36,36,36)"
                      },
                      "type": "carpet"
                    }
                  ],
                  "choropleth": [
                    {
                      "colorbar": {
                        "outlinewidth": 1,
                        "tickcolor": "rgb(36,36,36)",
                        "ticks": "outside"
                      },
                      "type": "choropleth"
                    }
                  ],
                  "contourcarpet": [
                    {
                      "colorbar": {
                        "outlinewidth": 1,
                        "tickcolor": "rgb(36,36,36)",
                        "ticks": "outside"
                      },
                      "type": "contourcarpet"
                    }
                  ],
                  "contour": [
                    {
                      "colorbar": {
                        "outlinewidth": 1,
                        "tickcolor": "rgb(36,36,36)",
                        "ticks": "outside"
                      },
                      "colorscale": [
                        [
                          0,
                          "#440154"
                        ],
                        [
                          0.1111111111111111,
                          "#482878"
                        ],
                        [
                          0.2222222222222222,
                          "#3e4989"
                        ],
                        [
                          0.3333333333333333,
                          "#31688e"
                        ],
                        [
                          0.4444444444444444,
                          "#26828e"
                        ],
                        [
                          0.5555555555555556,
                          "#1f9e89"
                        ],
                        [
                          0.6666666666666666,
                          "#35b779"
                        ],
                        [
                          0.7777777777777778,
                          "#6ece58"
                        ],
                        [
                          0.8888888888888888,
                          "#b5de2b"
                        ],
                        [
                          1,
                          "#fde725"
                        ]
                      ],
                      "type": "contour"
                    }
                  ],
                  "heatmapgl": [
                    {
                      "colorbar": {
                        "outlinewidth": 1,
                        "tickcolor": "rgb(36,36,36)",
                        "ticks": "outside"
                      },
                      "colorscale": [
                        [
                          0,
                          "#440154"
                        ],
                        [
                          0.1111111111111111,
                          "#482878"
                        ],
                        [
                          0.2222222222222222,
                          "#3e4989"
                        ],
                        [
                          0.3333333333333333,
                          "#31688e"
                        ],
                        [
                          0.4444444444444444,
                          "#26828e"
                        ],
                        [
                          0.5555555555555556,
                          "#1f9e89"
                        ],
                        [
                          0.6666666666666666,
                          "#35b779"
                        ],
                        [
                          0.7777777777777778,
                          "#6ece58"
                        ],
                        [
                          0.8888888888888888,
                          "#b5de2b"
                        ],
                        [
                          1,
                          "#fde725"
                        ]
                      ],
                      "type": "heatmapgl"
                    }
                  ],
                  "heatmap": [
                    {
                      "colorbar": {
                        "outlinewidth": 1,
                        "tickcolor": "rgb(36,36,36)",
                        "ticks": "outside"
                      },
                      "colorscale": [
                        [
                          0,
                          "#440154"
                        ],
                        [
                          0.1111111111111111,
                          "#482878"
                        ],
                        [
                          0.2222222222222222,
                          "#3e4989"
                        ],
                        [
                          0.3333333333333333,
                          "#31688e"
                        ],
                        [
                          0.4444444444444444,
                          "#26828e"
                        ],
                        [
                          0.5555555555555556,
                          "#1f9e89"
                        ],
                        [
                          0.6666666666666666,
                          "#35b779"
                        ],
                        [
                          0.7777777777777778,
                          "#6ece58"
                        ],
                        [
                          0.8888888888888888,
                          "#b5de2b"
                        ],
                        [
                          1,
                          "#fde725"
                        ]
                      ],
                      "type": "heatmap"
                    }
                  ],
                  "histogram2dcontour": [
                    {
                      "colorbar": {
                        "outlinewidth": 1,
                        "tickcolor": "rgb(36,36,36)",
                        "ticks": "outside"
                      },
                      "colorscale": [
                        [
                          0,
                          "#440154"
                        ],
                        [
                          0.1111111111111111,
                          "#482878"
                        ],
                        [
                          0.2222222222222222,
                          "#3e4989"
                        ],
                        [
                          0.3333333333333333,
                          "#31688e"
                        ],
                        [
                          0.4444444444444444,
                          "#26828e"
                        ],
                        [
                          0.5555555555555556,
                          "#1f9e89"
                        ],
                        [
                          0.6666666666666666,
                          "#35b779"
                        ],
                        [
                          0.7777777777777778,
                          "#6ece58"
                        ],
                        [
                          0.8888888888888888,
                          "#b5de2b"
                        ],
                        [
                          1,
                          "#fde725"
                        ]
                      ],
                      "type": "histogram2dcontour"
                    }
                  ],
                  "histogram2d": [
                    {
                      "colorbar": {
                        "outlinewidth": 1,
                        "tickcolor": "rgb(36,36,36)",
                        "ticks": "outside"
                      },
                      "colorscale": [
                        [
                          0,
                          "#440154"
                        ],
                        [
                          0.1111111111111111,
                          "#482878"
                        ],
                        [
                          0.2222222222222222,
                          "#3e4989"
                        ],
                        [
                          0.3333333333333333,
                          "#31688e"
                        ],
                        [
                          0.4444444444444444,
                          "#26828e"
                        ],
                        [
                          0.5555555555555556,
                          "#1f9e89"
                        ],
                        [
                          0.6666666666666666,
                          "#35b779"
                        ],
                        [
                          0.7777777777777778,
                          "#6ece58"
                        ],
                        [
                          0.8888888888888888,
                          "#b5de2b"
                        ],
                        [
                          1,
                          "#fde725"
                        ]
                      ],
                      "type": "histogram2d"
                    }
                  ],
                  "histogram": [
                    {
                      "marker": {
                        "line": {
                          "color": "white",
                          "width": 0.6
                        }
                      },
                      "type": "histogram"
                    }
                  ],
                  "mesh3d": [
                    {
                      "colorbar": {
                        "outlinewidth": 1,
                        "tickcolor": "rgb(36,36,36)",
                        "ticks": "outside"
                      },
                      "type": "mesh3d"
                    }
                  ],
                  "parcoords": [
                    {
                      "line": {
                        "colorbar": {
                          "outlinewidth": 1,
                          "tickcolor": "rgb(36,36,36)",
                          "ticks": "outside"
                        }
                      },
                      "type": "parcoords"
                    }
                  ],
                  "pie": [
                    {
                      "automargin": true,
                      "type": "pie"
                    }
                  ],
                  "scatter3d": [
                    {
                      "line": {
                        "colorbar": {
                          "outlinewidth": 1,
                          "tickcolor": "rgb(36,36,36)",
                          "ticks": "outside"
                        }
                      },
                      "marker": {
                        "colorbar": {
                          "outlinewidth": 1,
                          "tickcolor": "rgb(36,36,36)",
                          "ticks": "outside"
                        }
                      },
                      "type": "scatter3d"
                    }
                  ],
                  "scattercarpet": [
                    {
                      "marker": {
                        "colorbar": {
                          "outlinewidth": 1,
                          "tickcolor": "rgb(36,36,36)",
                          "ticks": "outside"
                        }
                      },
                      "type": "scattercarpet"
                    }
                  ],
                  "scattergeo": [
                    {
                      "marker": {
                        "colorbar": {
                          "outlinewidth": 1,
                          "tickcolor": "rgb(36,36,36)",
                          "ticks": "outside"
                        }
                      },
                      "type": "scattergeo"
                    }
                  ],
                  "scattergl": [
                    {
                      "marker": {
                        "colorbar": {
                          "outlinewidth": 1,
                          "tickcolor": "rgb(36,36,36)",
                          "ticks": "outside"
                        }
                      },
                      "type": "scattergl"
                    }
                  ],
                  "scattermapbox": [
                    {
                      "marker": {
                        "colorbar": {
                          "outlinewidth": 1,
                          "tickcolor": "rgb(36,36,36)",
                          "ticks": "outside"
                        }
                      },
                      "type": "scattermapbox"
                    }
                  ],
                  "scatterpolargl": [
                    {
                      "marker": {
                        "colorbar": {
                          "outlinewidth": 1,
                          "tickcolor": "rgb(36,36,36)",
                          "ticks": "outside"
                        }
                      },
                      "type": "scatterpolargl"
                    }
                  ],
                  "scatterpolar": [
                    {
                      "marker": {
                        "colorbar": {
                          "outlinewidth": 1,
                          "tickcolor": "rgb(36,36,36)",
                          "ticks": "outside"
                        }
                      },
                      "type": "scatterpolar"
                    }
                  ],
                  "scatter": [
                    {
                      "fillpattern": {
                        "fillmode": "overlay",
                        "size": 10,
                        "solidity": 0.2
                      },
                      "type": "scatter"
                    }
                  ],
                  "scatterternary": [
                    {
                      "marker": {
                        "colorbar": {
                          "outlinewidth": 1,
                          "tickcolor": "rgb(36,36,36)",
                          "ticks": "outside"
                        }
                      },
                      "type": "scatterternary"
                    }
                  ],
                  "surface": [
                    {
                      "colorbar": {
                        "outlinewidth": 1,
                        "tickcolor": "rgb(36,36,36)",
                        "ticks": "outside"
                      },
                      "colorscale": [
                        [
                          0,
                          "#440154"
                        ],
                        [
                          0.1111111111111111,
                          "#482878"
                        ],
                        [
                          0.2222222222222222,
                          "#3e4989"
                        ],
                        [
                          0.3333333333333333,
                          "#31688e"
                        ],
                        [
                          0.4444444444444444,
                          "#26828e"
                        ],
                        [
                          0.5555555555555556,
                          "#1f9e89"
                        ],
                        [
                          0.6666666666666666,
                          "#35b779"
                        ],
                        [
                          0.7777777777777778,
                          "#6ece58"
                        ],
                        [
                          0.8888888888888888,
                          "#b5de2b"
                        ],
                        [
                          1,
                          "#fde725"
                        ]
                      ],
                      "type": "surface"
                    }
                  ],
                  "table": [
                    {
                      "cells": {
                        "fill": {
                          "color": "rgb(237,237,237)"
                        },
                        "line": {
                          "color": "white"
                        }
                      },
                      "header": {
                        "fill": {
                          "color": "rgb(217,217,217)"
                        },
                        "line": {
                          "color": "white"
                        }
                      },
                      "type": "table"
                    }
                  ]
                },
                "layout": {
                  "annotationdefaults": {
                    "arrowhead": 0,
                    "arrowwidth": 1
                  },
                  "autotypenumbers": "strict",
                  "coloraxis": {
                    "colorbar": {
                      "outlinewidth": 1,
                      "tickcolor": "rgb(36,36,36)",
                      "ticks": "outside"
                    }
                  },
                  "colorscale": {
                    "diverging": [
                      [
                        0,
                        "rgb(103,0,31)"
                      ],
                      [
                        0.1,
                        "rgb(178,24,43)"
                      ],
                      [
                        0.2,
                        "rgb(214,96,77)"
                      ],
                      [
                        0.3,
                        "rgb(244,165,130)"
                      ],
                      [
                        0.4,
                        "rgb(253,219,199)"
                      ],
                      [
                        0.5,
                        "rgb(247,247,247)"
                      ],
                      [
                        0.6,
                        "rgb(209,229,240)"
                      ],
                      [
                        0.7,
                        "rgb(146,197,222)"
                      ],
                      [
                        0.8,
                        "rgb(67,147,195)"
                      ],
                      [
                        0.9,
                        "rgb(33,102,172)"
                      ],
                      [
                        1,
                        "rgb(5,48,97)"
                      ]
                    ],
                    "sequential": [
                      [
                        0,
                        "#440154"
                      ],
                      [
                        0.1111111111111111,
                        "#482878"
                      ],
                      [
                        0.2222222222222222,
                        "#3e4989"
                      ],
                      [
                        0.3333333333333333,
                        "#31688e"
                      ],
                      [
                        0.4444444444444444,
                        "#26828e"
                      ],
                      [
                        0.5555555555555556,
                        "#1f9e89"
                      ],
                      [
                        0.6666666666666666,
                        "#35b779"
                      ],
                      [
                        0.7777777777777778,
                        "#6ece58"
                      ],
                      [
                        0.8888888888888888,
                        "#b5de2b"
                      ],
                      [
                        1,
                        "#fde725"
                      ]
                    ],
                    "sequentialminus": [
                      [
                        0,
                        "#440154"
                      ],
                      [
                        0.1111111111111111,
                        "#482878"
                      ],
                      [
                        0.2222222222222222,
                        "#3e4989"
                      ],
                      [
                        0.3333333333333333,
                        "#31688e"
                      ],
                      [
                        0.4444444444444444,
                        "#26828e"
                      ],
                      [
                        0.5555555555555556,
                        "#1f9e89"
                      ],
                      [
                        0.6666666666666666,
                        "#35b779"
                      ],
                      [
                        0.7777777777777778,
                        "#6ece58"
                      ],
                      [
                        0.8888888888888888,
                        "#b5de2b"
                      ],
                      [
                        1,
                        "#fde725"
                      ]
                    ]
                  },
                  "colorway": [
                    "#1F77B4",
                    "#FF7F0E",
                    "#2CA02C",
                    "#D62728",
                    "#9467BD",
                    "#8C564B",
                    "#E377C2",
                    "#7F7F7F",
                    "#BCBD22",
                    "#17BECF"
                  ],
                  "font": {
                    "color": "rgb(36,36,36)"
                  },
                  "geo": {
                    "bgcolor": "white",
                    "lakecolor": "white",
                    "landcolor": "white",
                    "showlakes": true,
                    "showland": true,
                    "subunitcolor": "white"
                  },
                  "hoverlabel": {
                    "align": "left"
                  },
                  "hovermode": "closest",
                  "mapbox": {
                    "style": "light"
                  },
                  "paper_bgcolor": "white",
                  "plot_bgcolor": "white",
                  "polar": {
                    "angularaxis": {
                      "gridcolor": "rgb(232,232,232)",
                      "linecolor": "rgb(36,36,36)",
                      "showgrid": false,
                      "showline": true,
                      "ticks": "outside"
                    },
                    "bgcolor": "white",
                    "radialaxis": {
                      "gridcolor": "rgb(232,232,232)",
                      "linecolor": "rgb(36,36,36)",
                      "showgrid": false,
                      "showline": true,
                      "ticks": "outside"
                    }
                  },
                  "scene": {
                    "xaxis": {
                      "backgroundcolor": "white",
                      "gridcolor": "rgb(232,232,232)",
                      "gridwidth": 2,
                      "linecolor": "rgb(36,36,36)",
                      "showbackground": true,
                      "showgrid": false,
                      "showline": true,
                      "ticks": "outside",
                      "zeroline": false,
                      "zerolinecolor": "rgb(36,36,36)"
                    },
                    "yaxis": {
                      "backgroundcolor": "white",
                      "gridcolor": "rgb(232,232,232)",
                      "gridwidth": 2,
                      "linecolor": "rgb(36,36,36)",
                      "showbackground": true,
                      "showgrid": false,
                      "showline": true,
                      "ticks": "outside",
                      "zeroline": false,
                      "zerolinecolor": "rgb(36,36,36)"
                    },
                    "zaxis": {
                      "backgroundcolor": "white",
                      "gridcolor": "rgb(232,232,232)",
                      "gridwidth": 2,
                      "linecolor": "rgb(36,36,36)",
                      "showbackground": true,
                      "showgrid": false,
                      "showline": true,
                      "ticks": "outside",
                      "zeroline": false,
                      "zerolinecolor": "rgb(36,36,36)"
                    }
                  },
                  "shapedefaults": {
                    "fillcolor": "black",
                    "line": {
                      "width": 0
                    },
                    "opacity": 0.3
                  },
                  "ternary": {
                    "aaxis": {
                      "gridcolor": "rgb(232,232,232)",
                      "linecolor": "rgb(36,36,36)",
                      "showgrid": false,
                      "showline": true,
                      "ticks": "outside"
                    },
                    "baxis": {
                      "gridcolor": "rgb(232,232,232)",
                      "linecolor": "rgb(36,36,36)",
                      "showgrid": false,
                      "showline": true,
                      "ticks": "outside"
                    },
                    "bgcolor": "white",
                    "caxis": {
                      "gridcolor": "rgb(232,232,232)",
                      "linecolor": "rgb(36,36,36)",
                      "showgrid": false,
                      "showline": true,
                      "ticks": "outside"
                    }
                  },
                  "title": {
                    "x": 0.05
                  },
                  "xaxis": {
                    "automargin": true,
                    "gridcolor": "rgb(232,232,232)",
                    "linecolor": "rgb(36,36,36)",
                    "showgrid": false,
                    "showline": true,
                    "ticks": "outside",
                    "title": {
                      "standoff": 15
                    },
                    "zeroline": false,
                    "zerolinecolor": "rgb(36,36,36)"
                  },
                  "yaxis": {
                    "automargin": true,
                    "gridcolor": "rgb(232,232,232)",
                    "linecolor": "rgb(36,36,36)",
                    "showgrid": false,
                    "showline": true,
                    "ticks": "outside",
                    "title": {
                      "standoff": 15
                    },
                    "zeroline": false,
                    "zerolinecolor": "rgb(36,36,36)"
                  }
                }
              },
              "width": 850,
              "xaxis": {
                "anchor": "y",
                "domain": [
                  0,
                  0.4814814814814815
                ],
                "showline": false,
                "ticks": ""
              },
              "yaxis": {
                "anchor": "x",
                "domain": [
                  0,
                  1
                ],
                "title": {
                  "text": "Flux"
                },
                "zeroline": false
              },
              "xaxis2": {
                "anchor": "y2",
                "domain": [
                  0.5481481481481482,
                  0.7407407407407407
                ],
                "showline": false,
                "ticks": ""
              },
              "yaxis2": {
                "anchor": "x2",
                "domain": [
                  0,
                  1
                ],
                "zeroline": false
              },
              "xaxis3": {
                "anchor": "y3",
                "domain": [
                  0.8074074074074074,
                  1
                ],
                "showline": false,
                "ticks": ""
              },
              "yaxis3": {
                "anchor": "x3",
                "domain": [
                  0,
                  1
                ],
                "zeroline": false
              }
            },
            "_model_module": "jupyterlab-plotly",
            "_model_module_version": "^5.24.1",
            "_model_name": "FigureModel",
            "_py2js_addTraces": {},
            "_py2js_animate": {},
            "_py2js_deleteTraces": {},
            "_py2js_moveTraces": {},
            "_py2js_relayout": {},
            "_py2js_removeLayoutProps": {},
            "_py2js_removeTraceProps": {},
            "_py2js_restyle": null,
            "_py2js_update": {},
            "_view_count": 1,
            "_view_module": "jupyterlab-plotly",
            "_view_module_version": "^5.24.1",
            "_view_name": "FigureView"
          }
        },
        "b450ecf5d1a24f87bd42ed86adc96e88": {
          "model_module": "@jupyter-widgets/controls",
          "model_name": "HBoxModel",
          "model_module_version": "1.5.0",
          "state": {
            "_dom_classes": [],
            "_model_module": "@jupyter-widgets/controls",
            "_model_module_version": "1.5.0",
            "_model_name": "HBoxModel",
            "_view_count": null,
            "_view_module": "@jupyter-widgets/controls",
            "_view_module_version": "1.5.0",
            "_view_name": "HBoxView",
            "box_style": "",
            "children": [
              "IPY_MODEL_880451f1cacc456da8e228422d875759",
              "IPY_MODEL_579d1a1e0ea24d72a202c1c41aea2e7f",
              "IPY_MODEL_1173ba2088884159bb7c810e344daaf4"
            ],
            "layout": "IPY_MODEL_f5dee20549ea4463a2775083ad8cff81"
          }
        },
        "e92214fb21c942ff884fd111074693b4": {
          "model_module": "@jupyter-widgets/controls",
          "model_name": "HBoxModel",
          "model_module_version": "1.5.0",
          "state": {
            "_dom_classes": [],
            "_model_module": "@jupyter-widgets/controls",
            "_model_module_version": "1.5.0",
            "_model_name": "HBoxModel",
            "_view_count": null,
            "_view_module": "@jupyter-widgets/controls",
            "_view_module_version": "1.5.0",
            "_view_name": "HBoxView",
            "box_style": "",
            "children": [
              "IPY_MODEL_fe7319cb187743a0957ecf75d50be3a8",
              "IPY_MODEL_bd6c1f97daac463295506ad6bc351704"
            ],
            "layout": "IPY_MODEL_8002b94d76f54d25ae40de42ee80ae20"
          }
        },
        "2bc9f859ba7f4e6bafcaa51f09645da9": {
          "model_module": "@jupyter-widgets/base",
          "model_name": "LayoutModel",
          "model_module_version": "1.2.0",
          "state": {
            "_model_module": "@jupyter-widgets/base",
            "_model_module_version": "1.2.0",
            "_model_name": "LayoutModel",
            "_view_count": null,
            "_view_module": "@jupyter-widgets/base",
            "_view_module_version": "1.2.0",
            "_view_name": "LayoutView",
            "align_content": null,
            "align_items": null,
            "align_self": null,
            "border": null,
            "bottom": null,
            "display": null,
            "flex": null,
            "flex_flow": null,
            "grid_area": null,
            "grid_auto_columns": null,
            "grid_auto_flow": null,
            "grid_auto_rows": null,
            "grid_column": null,
            "grid_gap": null,
            "grid_row": null,
            "grid_template_areas": null,
            "grid_template_columns": null,
            "grid_template_rows": null,
            "height": null,
            "justify_content": null,
            "justify_items": null,
            "left": null,
            "margin": null,
            "max_height": null,
            "max_width": null,
            "min_height": null,
            "min_width": null,
            "object_fit": null,
            "object_position": null,
            "order": null,
            "overflow": null,
            "overflow_x": null,
            "overflow_y": null,
            "padding": null,
            "right": null,
            "top": null,
            "visibility": null,
            "width": null
          }
        },
        "880451f1cacc456da8e228422d875759": {
          "model_module": "@jupyter-widgets/controls",
          "model_name": "FloatSliderModel",
          "model_module_version": "1.5.0",
          "state": {
            "_dom_classes": [],
            "_model_module": "@jupyter-widgets/controls",
            "_model_module_version": "1.5.0",
            "_model_name": "FloatSliderModel",
            "_view_count": null,
            "_view_module": "@jupyter-widgets/controls",
            "_view_module_version": "1.5.0",
            "_view_name": "FloatSliderView",
            "continuous_update": true,
            "description": "μ",
            "description_tooltip": null,
            "disabled": false,
            "layout": "IPY_MODEL_71c98750652e435aba4f1af669ac7c9f",
            "max": 4,
            "min": -2,
            "orientation": "horizontal",
            "readout": true,
            "readout_format": ".2f",
            "step": 0.1,
            "style": "IPY_MODEL_5a7373c02fd041918a3c641abb1c78df",
            "value": 1.2999999999999998
          }
        },
        "579d1a1e0ea24d72a202c1c41aea2e7f": {
          "model_module": "@jupyter-widgets/controls",
          "model_name": "FloatSliderModel",
          "model_module_version": "1.5.0",
          "state": {
            "_dom_classes": [],
            "_model_module": "@jupyter-widgets/controls",
            "_model_module_version": "1.5.0",
            "_model_name": "FloatSliderModel",
            "_view_count": null,
            "_view_module": "@jupyter-widgets/controls",
            "_view_module_version": "1.5.0",
            "_view_name": "FloatSliderView",
            "continuous_update": true,
            "description": "ln(q)",
            "description_tooltip": null,
            "disabled": false,
            "layout": "IPY_MODEL_8f03485789b54ee897587ebcbdedd17d",
            "max": 3,
            "min": -3,
            "orientation": "horizontal",
            "readout": true,
            "readout_format": ".2f",
            "step": 0.1,
            "style": "IPY_MODEL_5581dc6ea0e64dd4afaeff39bb9b01bf",
            "value": 0.2999999999999998
          }
        },
        "1173ba2088884159bb7c810e344daaf4": {
          "model_module": "@jupyter-widgets/controls",
          "model_name": "FloatSliderModel",
          "model_module_version": "1.5.0",
          "state": {
            "_dom_classes": [],
            "_model_module": "@jupyter-widgets/controls",
            "_model_module_version": "1.5.0",
            "_model_name": "FloatSliderModel",
            "_view_count": null,
            "_view_module": "@jupyter-widgets/controls",
            "_view_module_version": "1.5.0",
            "_view_name": "FloatSliderView",
            "continuous_update": true,
            "description": "W",
            "description_tooltip": null,
            "disabled": false,
            "layout": "IPY_MODEL_614489fd0c8847f4ae66aee6cfed1d28",
            "max": 4,
            "min": -4,
            "orientation": "horizontal",
            "readout": true,
            "readout_format": ".2f",
            "step": 0.1,
            "style": "IPY_MODEL_d1e4406ed3fd40c099dc939e986edbba",
            "value": 4
          }
        },
        "f5dee20549ea4463a2775083ad8cff81": {
          "model_module": "@jupyter-widgets/base",
          "model_name": "LayoutModel",
          "model_module_version": "1.2.0",
          "state": {
            "_model_module": "@jupyter-widgets/base",
            "_model_module_version": "1.2.0",
            "_model_name": "LayoutModel",
            "_view_count": null,
            "_view_module": "@jupyter-widgets/base",
            "_view_module_version": "1.2.0",
            "_view_name": "LayoutView",
            "align_content": null,
            "align_items": null,
            "align_self": null,
            "border": null,
            "bottom": null,
            "display": null,
            "flex": null,
            "flex_flow": null,
            "grid_area": null,
            "grid_auto_columns": null,
            "grid_auto_flow": null,
            "grid_auto_rows": null,
            "grid_column": null,
            "grid_gap": null,
            "grid_row": null,
            "grid_template_areas": null,
            "grid_template_columns": null,
            "grid_template_rows": null,
            "height": null,
            "justify_content": null,
            "justify_items": null,
            "left": null,
            "margin": null,
            "max_height": null,
            "max_width": null,
            "min_height": null,
            "min_width": null,
            "object_fit": null,
            "object_position": null,
            "order": null,
            "overflow": null,
            "overflow_x": null,
            "overflow_y": null,
            "padding": null,
            "right": null,
            "top": null,
            "visibility": null,
            "width": null
          }
        },
        "fe7319cb187743a0957ecf75d50be3a8": {
          "model_module": "@jupyter-widgets/controls",
          "model_name": "FloatSliderModel",
          "model_module_version": "1.5.0",
          "state": {
            "_dom_classes": [],
            "_model_module": "@jupyter-widgets/controls",
            "_model_module_version": "1.5.0",
            "_model_name": "FloatSliderModel",
            "_view_count": null,
            "_view_module": "@jupyter-widgets/controls",
            "_view_module_version": "1.5.0",
            "_view_name": "FloatSliderView",
            "continuous_update": true,
            "description": "Λ",
            "description_tooltip": null,
            "disabled": false,
            "layout": "IPY_MODEL_41d7f7ae6cde4eb48b0a42a7d8777c7a",
            "max": 1,
            "min": 0,
            "orientation": "horizontal",
            "readout": true,
            "readout_format": ".2f",
            "step": 0.01,
            "style": "IPY_MODEL_e1156fca2a2c4ae895f727edb8f24244",
            "value": 0.1
          }
        },
        "bd6c1f97daac463295506ad6bc351704": {
          "model_module": "@jupyter-widgets/controls",
          "model_name": "FloatSliderModel",
          "model_module_version": "1.5.0",
          "state": {
            "_dom_classes": [],
            "_model_module": "@jupyter-widgets/controls",
            "_model_module_version": "1.5.0",
            "_model_name": "FloatSliderModel",
            "_view_count": null,
            "_view_module": "@jupyter-widgets/controls",
            "_view_module_version": "1.5.0",
            "_view_name": "FloatSliderView",
            "continuous_update": true,
            "description": "Γ",
            "description_tooltip": null,
            "disabled": false,
            "layout": "IPY_MODEL_0e4d94a3528f4401b3d4ddd8756a5257",
            "max": 1,
            "min": 0,
            "orientation": "horizontal",
            "readout": true,
            "readout_format": ".2f",
            "step": 0.01,
            "style": "IPY_MODEL_d247b221724b43fcb01e6b95214a7cbd",
            "value": 0.1
          }
        },
        "8002b94d76f54d25ae40de42ee80ae20": {
          "model_module": "@jupyter-widgets/base",
          "model_name": "LayoutModel",
          "model_module_version": "1.2.0",
          "state": {
            "_model_module": "@jupyter-widgets/base",
            "_model_module_version": "1.2.0",
            "_model_name": "LayoutModel",
            "_view_count": null,
            "_view_module": "@jupyter-widgets/base",
            "_view_module_version": "1.2.0",
            "_view_name": "LayoutView",
            "align_content": null,
            "align_items": null,
            "align_self": null,
            "border": null,
            "bottom": null,
            "display": null,
            "flex": null,
            "flex_flow": null,
            "grid_area": null,
            "grid_auto_columns": null,
            "grid_auto_flow": null,
            "grid_auto_rows": null,
            "grid_column": null,
            "grid_gap": null,
            "grid_row": null,
            "grid_template_areas": null,
            "grid_template_columns": null,
            "grid_template_rows": null,
            "height": null,
            "justify_content": null,
            "justify_items": null,
            "left": null,
            "margin": null,
            "max_height": null,
            "max_width": null,
            "min_height": null,
            "min_width": null,
            "object_fit": null,
            "object_position": null,
            "order": null,
            "overflow": null,
            "overflow_x": null,
            "overflow_y": null,
            "padding": null,
            "right": null,
            "top": null,
            "visibility": null,
            "width": null
          }
        },
        "71c98750652e435aba4f1af669ac7c9f": {
          "model_module": "@jupyter-widgets/base",
          "model_name": "LayoutModel",
          "model_module_version": "1.2.0",
          "state": {
            "_model_module": "@jupyter-widgets/base",
            "_model_module_version": "1.2.0",
            "_model_name": "LayoutModel",
            "_view_count": null,
            "_view_module": "@jupyter-widgets/base",
            "_view_module_version": "1.2.0",
            "_view_name": "LayoutView",
            "align_content": null,
            "align_items": null,
            "align_self": null,
            "border": null,
            "bottom": null,
            "display": null,
            "flex": null,
            "flex_flow": null,
            "grid_area": null,
            "grid_auto_columns": null,
            "grid_auto_flow": null,
            "grid_auto_rows": null,
            "grid_column": null,
            "grid_gap": null,
            "grid_row": null,
            "grid_template_areas": null,
            "grid_template_columns": null,
            "grid_template_rows": null,
            "height": null,
            "justify_content": null,
            "justify_items": null,
            "left": null,
            "margin": null,
            "max_height": null,
            "max_width": null,
            "min_height": null,
            "min_width": null,
            "object_fit": null,
            "object_position": null,
            "order": null,
            "overflow": null,
            "overflow_x": null,
            "overflow_y": null,
            "padding": null,
            "right": null,
            "top": null,
            "visibility": null,
            "width": null
          }
        },
        "5a7373c02fd041918a3c641abb1c78df": {
          "model_module": "@jupyter-widgets/controls",
          "model_name": "SliderStyleModel",
          "model_module_version": "1.5.0",
          "state": {
            "_model_module": "@jupyter-widgets/controls",
            "_model_module_version": "1.5.0",
            "_model_name": "SliderStyleModel",
            "_view_count": null,
            "_view_module": "@jupyter-widgets/base",
            "_view_module_version": "1.2.0",
            "_view_name": "StyleView",
            "description_width": "",
            "handle_color": null
          }
        },
        "8f03485789b54ee897587ebcbdedd17d": {
          "model_module": "@jupyter-widgets/base",
          "model_name": "LayoutModel",
          "model_module_version": "1.2.0",
          "state": {
            "_model_module": "@jupyter-widgets/base",
            "_model_module_version": "1.2.0",
            "_model_name": "LayoutModel",
            "_view_count": null,
            "_view_module": "@jupyter-widgets/base",
            "_view_module_version": "1.2.0",
            "_view_name": "LayoutView",
            "align_content": null,
            "align_items": null,
            "align_self": null,
            "border": null,
            "bottom": null,
            "display": null,
            "flex": null,
            "flex_flow": null,
            "grid_area": null,
            "grid_auto_columns": null,
            "grid_auto_flow": null,
            "grid_auto_rows": null,
            "grid_column": null,
            "grid_gap": null,
            "grid_row": null,
            "grid_template_areas": null,
            "grid_template_columns": null,
            "grid_template_rows": null,
            "height": null,
            "justify_content": null,
            "justify_items": null,
            "left": null,
            "margin": null,
            "max_height": null,
            "max_width": null,
            "min_height": null,
            "min_width": null,
            "object_fit": null,
            "object_position": null,
            "order": null,
            "overflow": null,
            "overflow_x": null,
            "overflow_y": null,
            "padding": null,
            "right": null,
            "top": null,
            "visibility": null,
            "width": null
          }
        },
        "5581dc6ea0e64dd4afaeff39bb9b01bf": {
          "model_module": "@jupyter-widgets/controls",
          "model_name": "SliderStyleModel",
          "model_module_version": "1.5.0",
          "state": {
            "_model_module": "@jupyter-widgets/controls",
            "_model_module_version": "1.5.0",
            "_model_name": "SliderStyleModel",
            "_view_count": null,
            "_view_module": "@jupyter-widgets/base",
            "_view_module_version": "1.2.0",
            "_view_name": "StyleView",
            "description_width": "",
            "handle_color": null
          }
        },
        "614489fd0c8847f4ae66aee6cfed1d28": {
          "model_module": "@jupyter-widgets/base",
          "model_name": "LayoutModel",
          "model_module_version": "1.2.0",
          "state": {
            "_model_module": "@jupyter-widgets/base",
            "_model_module_version": "1.2.0",
            "_model_name": "LayoutModel",
            "_view_count": null,
            "_view_module": "@jupyter-widgets/base",
            "_view_module_version": "1.2.0",
            "_view_name": "LayoutView",
            "align_content": null,
            "align_items": null,
            "align_self": null,
            "border": null,
            "bottom": null,
            "display": null,
            "flex": null,
            "flex_flow": null,
            "grid_area": null,
            "grid_auto_columns": null,
            "grid_auto_flow": null,
            "grid_auto_rows": null,
            "grid_column": null,
            "grid_gap": null,
            "grid_row": null,
            "grid_template_areas": null,
            "grid_template_columns": null,
            "grid_template_rows": null,
            "height": null,
            "justify_content": null,
            "justify_items": null,
            "left": null,
            "margin": null,
            "max_height": null,
            "max_width": null,
            "min_height": null,
            "min_width": null,
            "object_fit": null,
            "object_position": null,
            "order": null,
            "overflow": null,
            "overflow_x": null,
            "overflow_y": null,
            "padding": null,
            "right": null,
            "top": null,
            "visibility": null,
            "width": null
          }
        },
        "d1e4406ed3fd40c099dc939e986edbba": {
          "model_module": "@jupyter-widgets/controls",
          "model_name": "SliderStyleModel",
          "model_module_version": "1.5.0",
          "state": {
            "_model_module": "@jupyter-widgets/controls",
            "_model_module_version": "1.5.0",
            "_model_name": "SliderStyleModel",
            "_view_count": null,
            "_view_module": "@jupyter-widgets/base",
            "_view_module_version": "1.2.0",
            "_view_name": "StyleView",
            "description_width": "",
            "handle_color": null
          }
        },
        "41d7f7ae6cde4eb48b0a42a7d8777c7a": {
          "model_module": "@jupyter-widgets/base",
          "model_name": "LayoutModel",
          "model_module_version": "1.2.0",
          "state": {
            "_model_module": "@jupyter-widgets/base",
            "_model_module_version": "1.2.0",
            "_model_name": "LayoutModel",
            "_view_count": null,
            "_view_module": "@jupyter-widgets/base",
            "_view_module_version": "1.2.0",
            "_view_name": "LayoutView",
            "align_content": null,
            "align_items": null,
            "align_self": null,
            "border": null,
            "bottom": null,
            "display": null,
            "flex": null,
            "flex_flow": null,
            "grid_area": null,
            "grid_auto_columns": null,
            "grid_auto_flow": null,
            "grid_auto_rows": null,
            "grid_column": null,
            "grid_gap": null,
            "grid_row": null,
            "grid_template_areas": null,
            "grid_template_columns": null,
            "grid_template_rows": null,
            "height": null,
            "justify_content": null,
            "justify_items": null,
            "left": null,
            "margin": null,
            "max_height": null,
            "max_width": null,
            "min_height": null,
            "min_width": null,
            "object_fit": null,
            "object_position": null,
            "order": null,
            "overflow": null,
            "overflow_x": null,
            "overflow_y": null,
            "padding": null,
            "right": null,
            "top": null,
            "visibility": null,
            "width": null
          }
        },
        "e1156fca2a2c4ae895f727edb8f24244": {
          "model_module": "@jupyter-widgets/controls",
          "model_name": "SliderStyleModel",
          "model_module_version": "1.5.0",
          "state": {
            "_model_module": "@jupyter-widgets/controls",
            "_model_module_version": "1.5.0",
            "_model_name": "SliderStyleModel",
            "_view_count": null,
            "_view_module": "@jupyter-widgets/base",
            "_view_module_version": "1.2.0",
            "_view_name": "StyleView",
            "description_width": "",
            "handle_color": null
          }
        },
        "0e4d94a3528f4401b3d4ddd8756a5257": {
          "model_module": "@jupyter-widgets/base",
          "model_name": "LayoutModel",
          "model_module_version": "1.2.0",
          "state": {
            "_model_module": "@jupyter-widgets/base",
            "_model_module_version": "1.2.0",
            "_model_name": "LayoutModel",
            "_view_count": null,
            "_view_module": "@jupyter-widgets/base",
            "_view_module_version": "1.2.0",
            "_view_name": "LayoutView",
            "align_content": null,
            "align_items": null,
            "align_self": null,
            "border": null,
            "bottom": null,
            "display": null,
            "flex": null,
            "flex_flow": null,
            "grid_area": null,
            "grid_auto_columns": null,
            "grid_auto_flow": null,
            "grid_auto_rows": null,
            "grid_column": null,
            "grid_gap": null,
            "grid_row": null,
            "grid_template_areas": null,
            "grid_template_columns": null,
            "grid_template_rows": null,
            "height": null,
            "justify_content": null,
            "justify_items": null,
            "left": null,
            "margin": null,
            "max_height": null,
            "max_width": null,
            "min_height": null,
            "min_width": null,
            "object_fit": null,
            "object_position": null,
            "order": null,
            "overflow": null,
            "overflow_x": null,
            "overflow_y": null,
            "padding": null,
            "right": null,
            "top": null,
            "visibility": null,
            "width": null
          }
        },
        "d247b221724b43fcb01e6b95214a7cbd": {
          "model_module": "@jupyter-widgets/controls",
          "model_name": "SliderStyleModel",
          "model_module_version": "1.5.0",
          "state": {
            "_model_module": "@jupyter-widgets/controls",
            "_model_module_version": "1.5.0",
            "_model_name": "SliderStyleModel",
            "_view_count": null,
            "_view_module": "@jupyter-widgets/base",
            "_view_module_version": "1.2.0",
            "_view_name": "StyleView",
            "description_width": "",
            "handle_color": null
          }
        }
      }
    }
  },
  "cells": [
    {
      "cell_type": "code",
      "source": [
        "from google.colab import output\n",
        "output.enable_custom_widget_manager()"
      ],
      "metadata": {
        "id": "U_SJ_n0ecNNn"
      },
      "execution_count": 1,
      "outputs": []
    },
    {
      "cell_type": "code",
      "source": [
        "import numpy as np\n",
        "import plotly.graph_objects as go\n",
        "from plotly.subplots import make_subplots\n",
        "from ipywidgets import FloatSlider, VBox, HBox\n",
        "\n",
        "# ---------- maths ----------\n",
        "def get_fluxes(mu, ln_q, W, slip, futile):\n",
        "    \"\"\"Return 8 fluxes.\"\"\"\n",
        "    sqrt_q, sqrt_Q, sqrt_W = np.exp(ln_q/2), np.exp(mu/2), np.exp(W/2)\n",
        "    F,  Ft = sqrt_q * sqrt_Q / sqrt_W, sqrt_q / sqrt_Q * sqrt_W\n",
        "    B,  Bt = 1 / sqrt_q * sqrt_Q * sqrt_W, 1 / sqrt_q / sqrt_Q / sqrt_W\n",
        "    S,  St = slip / sqrt_q / sqrt_W, slip / sqrt_q * sqrt_W\n",
        "    C,  Ct = futile / sqrt_q * sqrt_Q, futile / sqrt_q / sqrt_Q\n",
        "    return F, Ft, B, Bt, S, St, C, Ct\n",
        "\n",
        "# ───────────────── colours / labels ─────\n",
        "cols      = [\"#007134\", \"#7fb799\", \"#BA0D20\", \"#dc858f\"] + [\"#9292C9\"]*4\n",
        "rot_cols  = [cols[0], cols[3], cols[4], cols[1], cols[2], cols[5]]\n",
        "rot_labs  = [\"F\", \"B⁺\", \"S\", \"F⁺\", \"B\", \"S⁺\"]\n",
        "fuel_cols = [cols[0], cols[2], cols[6], cols[1], cols[3], cols[7]]\n",
        "fuel_labs = [\"F\", \"B\", \"C\", \"F⁺\", \"B⁺\", \"C⁺\"]\n",
        "\n",
        "\n",
        "# ───────────────── helpers ──────────────\n",
        "def add_seg(fig, *, row, col, x, label, colour):\n",
        "    \"\"\"Add a single stacked-bar trace (initial y=0).\"\"\"\n",
        "    fig.add_trace(\n",
        "        go.Bar(\n",
        "            x=x, y=[0, 0],\n",
        "            marker=dict(color=colour, line=dict(color=\"black\", width=1)),\n",
        "            hovertemplate=f\"{label}: %{{y:.3f}}<extra></extra>\",\n",
        "            showlegend=False,\n",
        "            name=label,\n",
        "        ),\n",
        "        row=row, col=col,\n",
        "    )\n",
        "\n",
        "\n",
        "def build_skeleton() -> go.Figure:\n",
        "    \"\"\"Figure with all traces in place (heights zero).\"\"\"\n",
        "    fig = make_subplots(\n",
        "        rows=1, cols=3,\n",
        "        column_widths=[2.5, 1, 1],\n",
        "        subplot_titles=(\"All fluxes\", \"Rotation\", \"Fuel\"),\n",
        "    )\n",
        "    # left panel - eight solo bars\n",
        "    fig.add_trace(\n",
        "        go.Bar(\n",
        "            x=[\"F\", \"F⁺\", \"B\", \"B⁺\", \"S\", \"S⁺\", \"C\", \"C⁺\"],\n",
        "            y=[0]*8,\n",
        "            marker=dict(color=cols, line=dict(color='black', width=1)),\n",
        "            hovertemplate=\"%{x}: %{y:.3f}<extra></extra>\",\n",
        "            showlegend=False,\n",
        "        ),\n",
        "        row=1, col=1,\n",
        "    )\n",
        "    # middle panel - rotation\n",
        "    for lab, c in zip(rot_labs, rot_cols):\n",
        "        add_seg(fig, row=1, col=2, x=[\"cw\", \"ccw\"], label=lab, colour=c)\n",
        "    # right panel - fuel\n",
        "    for lab, c in zip(fuel_labs, fuel_cols):\n",
        "        add_seg(fig, row=1, col=3, x=[\"F→W\", \"W→F\"], label=lab, colour=c)\n",
        "\n",
        "    fig.update_layout(\n",
        "        barmode=\"stack\", template=\"simple_white\",\n",
        "        bargap=0.15, width=850, height=450,\n",
        "        margin=dict(l=30, r=10, t=30, b=30),\n",
        "    )\n",
        "    fig.update_xaxes(showline=False, ticks=\"\"); fig.update_yaxes(zeroline=False)\n",
        "    fig.update_yaxes(title_text=\"Flux\", row=1, col=1)\n",
        "    return fig\n",
        "\n",
        "\n",
        "# ───────────────── build widgets ────────\n",
        "figw = go.FigureWidget(build_skeleton())\n",
        "\n",
        "μ_sl    = FloatSlider(value=1.3, min=-2, max=4, step=0.1, description=\"μ\")\n",
        "lnq_sl  = FloatSlider(value=1.0, min=-3, max=3, step=0.1, description=\"ln(q)\")\n",
        "W_sl    = FloatSlider(value=0.0, min=-4, max=4, step=0.1, description=\"W\")\n",
        "slip_sl = FloatSlider(value=0.1, min=0,  max=1, step=0.01, description=\"Λ\")\n",
        "fut_sl  = FloatSlider(value=0.1, min=0,  max=1, step=0.01, description=\"Γ\")\n",
        "\n",
        "\n",
        "# ───────────────── callback ─────────────\n",
        "def update(_=None):\n",
        "    F, Ft, B, Bt, S, St, C, Ct = get_fluxes(\n",
        "        μ_sl.value, lnq_sl.value, W_sl.value, slip_sl.value, fut_sl.value\n",
        "    )\n",
        "\n",
        "    # left panel\n",
        "    figw.data[0].y = [F, Ft, B, Bt, S, St, C, Ct]\n",
        "\n",
        "    # middle panel (traces 1–6)\n",
        "    for t, pair in zip(\n",
        "        figw.data[1:7],\n",
        "        ([F, 0], [Bt, 0], [S, 0], [0, Ft], [0, B], [0, St]),\n",
        "    ):\n",
        "        t.y = pair\n",
        "\n",
        "    # right panel (traces 7–12)\n",
        "    for t, pair in zip(\n",
        "        figw.data[7:],\n",
        "        ([F, 0], [B, 0], [C, 0], [0, Ft], [0, Bt], [0, Ct]),\n",
        "    ):\n",
        "        t.y = pair\n",
        "\n",
        "\n",
        "for s in (μ_sl, lnq_sl, W_sl, slip_sl, fut_sl):\n",
        "    s.observe(update, names='value')\n",
        "\n",
        "update()  # fill initial values\n",
        "\n",
        "# ───────────────── expose to notebook ───\n",
        "VBox([figw,\n",
        "      HBox([μ_sl, lnq_sl, W_sl]),\n",
        "      HBox([slip_sl, fut_sl])])"
      ],
      "metadata": {
        "colab": {
          "base_uri": "https://localhost:8080/",
          "height": 531,
          "referenced_widgets": [
            "ccda282518604be795326bdbd050910e",
            "606038ab6fe249d9902340aadb481b46",
            "b450ecf5d1a24f87bd42ed86adc96e88",
            "e92214fb21c942ff884fd111074693b4",
            "2bc9f859ba7f4e6bafcaa51f09645da9",
            "880451f1cacc456da8e228422d875759",
            "579d1a1e0ea24d72a202c1c41aea2e7f",
            "1173ba2088884159bb7c810e344daaf4",
            "f5dee20549ea4463a2775083ad8cff81",
            "fe7319cb187743a0957ecf75d50be3a8",
            "bd6c1f97daac463295506ad6bc351704",
            "8002b94d76f54d25ae40de42ee80ae20",
            "71c98750652e435aba4f1af669ac7c9f",
            "5a7373c02fd041918a3c641abb1c78df",
            "8f03485789b54ee897587ebcbdedd17d",
            "5581dc6ea0e64dd4afaeff39bb9b01bf",
            "614489fd0c8847f4ae66aee6cfed1d28",
            "d1e4406ed3fd40c099dc939e986edbba",
            "41d7f7ae6cde4eb48b0a42a7d8777c7a",
            "e1156fca2a2c4ae895f727edb8f24244",
            "0e4d94a3528f4401b3d4ddd8756a5257",
            "d247b221724b43fcb01e6b95214a7cbd"
          ]
        },
        "id": "vXLpHowNYXfK",
        "outputId": "54a0f12e-e87f-4cd4-f70f-0f67019f7d0a"
      },
      "execution_count": 6,
      "outputs": [
        {
          "output_type": "display_data",
          "data": {
            "text/plain": [
              "VBox(children=(FigureWidget({\n",
              "    'data': [{'hovertemplate': '%{x}: %{y:.3f}<extra></extra>',\n",
              "              'm…"
            ],
            "application/vnd.jupyter.widget-view+json": {
              "version_major": 2,
              "version_minor": 0,
              "model_id": "ccda282518604be795326bdbd050910e"
            }
          },
          "metadata": {
            "application/vnd.jupyter.widget-view+json": {
              "colab": {
                "custom_widget_manager": {
                  "url": "https://ssl.gstatic.com/colaboratory-static/widgets/colab-cdn-widget-manager/2b70e893a8ba7c0f/manager.min.js"
                }
              }
            }
          }
        }
      ]
    },
    {
      "cell_type": "code",
      "source": [],
      "metadata": {
        "id": "Qr9AJA4il_mL"
      },
      "execution_count": null,
      "outputs": []
    }
  ]
}