{
  "nbformat": 4,
  "nbformat_minor": 0,
  "metadata": {
    "colab": {
      "provenance": [],
      "collapsed_sections": [
        "v6EGbjmBM5tE"
      ]
    },
    "kernelspec": {
      "name": "python3",
      "display_name": "Python 3"
    },
    "language_info": {
      "name": "python"
    },
    "widgets": {
      "application/vnd.jupyter.widget-state+json": {
        "73b74a50d801402d8267ff23750c8eae": {
          "model_module": "@jupyter-widgets/controls",
          "model_name": "VBoxModel",
          "model_module_version": "1.5.0",
          "state": {
            "_dom_classes": [],
            "_model_module": "@jupyter-widgets/controls",
            "_model_module_version": "1.5.0",
            "_model_name": "VBoxModel",
            "_view_count": null,
            "_view_module": "@jupyter-widgets/controls",
            "_view_module_version": "1.5.0",
            "_view_name": "VBoxView",
            "box_style": "",
            "children": [
              "IPY_MODEL_364f57f60bb945d2b235c30bcc3a5984",
              "IPY_MODEL_c42ae5b7f4ab4357b3065a1b5cef34fb",
              "IPY_MODEL_56aeec3ef70641048fd501d9876a5126"
            ],
            "layout": "IPY_MODEL_54c0b823a3fd43e5a1ee7aed6bb116e2"
          }
        },
        "364f57f60bb945d2b235c30bcc3a5984": {
          "model_module": "jupyterlab-plotly",
          "model_name": "FigureModel",
          "model_module_version": "^5.24.1",
          "state": {
            "_config": {
              "plotlyServerURL": "https://plot.ly"
            },
            "_data": [
              {
                "hovertemplate": "%{x}: %{y:.3f}<extra></extra>",
                "marker": {
                  "color": [
                    "#007134",
                    "#7fb799",
                    "#BA0D20",
                    "#dc858f",
                    "#9292C9",
                    "#9292C9",
                    "#9292C9",
                    "#9292C9"
                  ],
                  "line": {
                    "color": "black",
                    "width": 1
                  }
                },
                "showlegend": false,
                "x": [
                  "F",
                  "F⁺",
                  "B",
                  "B⁺",
                  "S",
                  "S⁺",
                  "C",
                  "C⁺"
                ],
                "xaxis": "x",
                "y": [
                  0,
                  0,
                  0,
                  0,
                  0,
                  0,
                  0,
                  0
                ],
                "yaxis": "y",
                "type": "bar",
                "uid": "381b1431-5656-4c12-8d0e-cb2b319e49e0"
              },
              {
                "hovertemplate": "F: %{y:.3f}<extra></extra>",
                "marker": {
                  "color": "#007134",
                  "line": {
                    "color": "black",
                    "width": 1
                  }
                },
                "name": "F",
                "showlegend": false,
                "x": [
                  "Clockwise",
                  "Counterclockwise"
                ],
                "xaxis": "x2",
                "y": [
                  0,
                  0
                ],
                "yaxis": "y2",
                "type": "bar",
                "uid": "40b14ac6-9ed4-4a0e-9522-ec2611e6a0ad"
              },
              {
                "hovertemplate": "B⁺: %{y:.3f}<extra></extra>",
                "marker": {
                  "color": "#dc858f",
                  "line": {
                    "color": "black",
                    "width": 1
                  }
                },
                "name": "B⁺",
                "showlegend": false,
                "x": [
                  "Clockwise",
                  "Counterclockwise"
                ],
                "xaxis": "x2",
                "y": [
                  0,
                  0
                ],
                "yaxis": "y2",
                "type": "bar",
                "uid": "88405b53-261d-4738-a791-f37775b1ab1f"
              },
              {
                "hovertemplate": "S: %{y:.3f}<extra></extra>",
                "marker": {
                  "color": "#9292C9",
                  "line": {
                    "color": "black",
                    "width": 1
                  }
                },
                "name": "S",
                "showlegend": false,
                "x": [
                  "Clockwise",
                  "Counterclockwise"
                ],
                "xaxis": "x2",
                "y": [
                  0,
                  0
                ],
                "yaxis": "y2",
                "type": "bar",
                "uid": "43a87540-c6b8-43c4-9517-a02be8aa9d91"
              },
              {
                "hovertemplate": "F⁺: %{y:.3f}<extra></extra>",
                "marker": {
                  "color": "#7fb799",
                  "line": {
                    "color": "black",
                    "width": 1
                  }
                },
                "name": "F⁺",
                "showlegend": false,
                "x": [
                  "Clockwise",
                  "Counterclockwise"
                ],
                "xaxis": "x2",
                "y": [
                  0,
                  0
                ],
                "yaxis": "y2",
                "type": "bar",
                "uid": "94229f4d-dd54-4954-a45e-7ecc14c7ec42"
              },
              {
                "hovertemplate": "B: %{y:.3f}<extra></extra>",
                "marker": {
                  "color": "#BA0D20",
                  "line": {
                    "color": "black",
                    "width": 1
                  }
                },
                "name": "B",
                "showlegend": false,
                "x": [
                  "Clockwise",
                  "Counterclockwise"
                ],
                "xaxis": "x2",
                "y": [
                  0,
                  0
                ],
                "yaxis": "y2",
                "type": "bar",
                "uid": "ae76670a-c894-4a21-9343-83ca300c40b4"
              },
              {
                "hovertemplate": "S⁺: %{y:.3f}<extra></extra>",
                "marker": {
                  "color": "#9292C9",
                  "line": {
                    "color": "black",
                    "width": 1
                  }
                },
                "name": "S⁺",
                "showlegend": false,
                "x": [
                  "Clockwise",
                  "Counterclockwise"
                ],
                "xaxis": "x2",
                "y": [
                  0,
                  0
                ],
                "yaxis": "y2",
                "type": "bar",
                "uid": "ff2e3a74-9674-44b9-993d-aa63978d8a99"
              },
              {
                "hovertemplate": "F: %{y:.3f}<extra></extra>",
                "marker": {
                  "color": "#007134",
                  "line": {
                    "color": "black",
                    "width": 1
                  }
                },
                "name": "F",
                "showlegend": false,
                "x": [
                  "Fuel to waste",
                  "Waste to fuel"
                ],
                "xaxis": "x3",
                "y": [
                  0,
                  0
                ],
                "yaxis": "y3",
                "type": "bar",
                "uid": "8c18cbfd-6a1f-4f82-859c-6a8b32ba2239"
              },
              {
                "hovertemplate": "B: %{y:.3f}<extra></extra>",
                "marker": {
                  "color": "#BA0D20",
                  "line": {
                    "color": "black",
                    "width": 1
                  }
                },
                "name": "B",
                "showlegend": false,
                "x": [
                  "Fuel to waste",
                  "Waste to fuel"
                ],
                "xaxis": "x3",
                "y": [
                  0,
                  0
                ],
                "yaxis": "y3",
                "type": "bar",
                "uid": "2898380d-adf5-4d2d-b599-dff0eab8593f"
              },
              {
                "hovertemplate": "C: %{y:.3f}<extra></extra>",
                "marker": {
                  "color": "#9292C9",
                  "line": {
                    "color": "black",
                    "width": 1
                  }
                },
                "name": "C",
                "showlegend": false,
                "x": [
                  "Fuel to waste",
                  "Waste to fuel"
                ],
                "xaxis": "x3",
                "y": [
                  0,
                  0
                ],
                "yaxis": "y3",
                "type": "bar",
                "uid": "336e0e89-0c70-45d1-8c37-72fe5cbd4ad6"
              },
              {
                "hovertemplate": "F⁺: %{y:.3f}<extra></extra>",
                "marker": {
                  "color": "#7fb799",
                  "line": {
                    "color": "black",
                    "width": 1
                  }
                },
                "name": "F⁺",
                "showlegend": false,
                "x": [
                  "Fuel to waste",
                  "Waste to fuel"
                ],
                "xaxis": "x3",
                "y": [
                  0,
                  0
                ],
                "yaxis": "y3",
                "type": "bar",
                "uid": "3fd4943e-4a45-46b3-a893-4d6d1e3d45b8"
              },
              {
                "hovertemplate": "B⁺: %{y:.3f}<extra></extra>",
                "marker": {
                  "color": "#dc858f",
                  "line": {
                    "color": "black",
                    "width": 1
                  }
                },
                "name": "B⁺",
                "showlegend": false,
                "x": [
                  "Fuel to waste",
                  "Waste to fuel"
                ],
                "xaxis": "x3",
                "y": [
                  0,
                  0
                ],
                "yaxis": "y3",
                "type": "bar",
                "uid": "3525eb7d-65a5-4661-9f82-fa1fdb283711"
              },
              {
                "hovertemplate": "C⁺: %{y:.3f}<extra></extra>",
                "marker": {
                  "color": "#9292C9",
                  "line": {
                    "color": "black",
                    "width": 1
                  }
                },
                "name": "C⁺",
                "showlegend": false,
                "x": [
                  "Fuel to waste",
                  "Waste to fuel"
                ],
                "xaxis": "x3",
                "y": [
                  0,
                  0
                ],
                "yaxis": "y3",
                "type": "bar",
                "uid": "93027a0f-35a6-4ed9-a98c-f471e4eaf6fc"
              }
            ],
            "_dom_classes": [],
            "_js2py_layoutDelta": null,
            "_js2py_pointsCallback": {},
            "_js2py_relayout": {},
            "_js2py_restyle": {},
            "_js2py_traceDeltas": null,
            "_js2py_update": {},
            "_last_layout_edit_id": 13,
            "_last_trace_edit_id": 13,
            "_layout": {
              "annotations": [
                {
                  "font": {
                    "size": 16
                  },
                  "showarrow": false,
                  "text": "All fluxes",
                  "x": 0.24074074074074076,
                  "xanchor": "center",
                  "xref": "paper",
                  "y": 1,
                  "yanchor": "bottom",
                  "yref": "paper"
                },
                {
                  "font": {
                    "size": 16
                  },
                  "showarrow": false,
                  "text": "Mechanical flux",
                  "x": 0.6444444444444444,
                  "xanchor": "center",
                  "xref": "paper",
                  "y": 1,
                  "yanchor": "bottom",
                  "yref": "paper"
                },
                {
                  "font": {
                    "size": 16
                  },
                  "showarrow": false,
                  "text": "Chemical flux",
                  "x": 0.9037037037037037,
                  "xanchor": "center",
                  "xref": "paper",
                  "y": 1,
                  "yanchor": "bottom",
                  "yref": "paper"
                }
              ],
              "bargap": 0.15,
              "barmode": "stack",
              "height": 450,
              "margin": {
                "b": 30,
                "l": 30,
                "r": 10,
                "t": 30
              },
              "template": {
                "data": {
                  "barpolar": [
                    {
                      "marker": {
                        "line": {
                          "color": "white",
                          "width": 0.5
                        },
                        "pattern": {
                          "fillmode": "overlay",
                          "size": 10,
                          "solidity": 0.2
                        }
                      },
                      "type": "barpolar"
                    }
                  ],
                  "bar": [
                    {
                      "error_x": {
                        "color": "rgb(36,36,36)"
                      },
                      "error_y": {
                        "color": "rgb(36,36,36)"
                      },
                      "marker": {
                        "line": {
                          "color": "white",
                          "width": 0.5
                        },
                        "pattern": {
                          "fillmode": "overlay",
                          "size": 10,
                          "solidity": 0.2
                        }
                      },
                      "type": "bar"
                    }
                  ],
                  "carpet": [
                    {
                      "aaxis": {
                        "endlinecolor": "rgb(36,36,36)",
                        "gridcolor": "white",
                        "linecolor": "white",
                        "minorgridcolor": "white",
                        "startlinecolor": "rgb(36,36,36)"
                      },
                      "baxis": {
                        "endlinecolor": "rgb(36,36,36)",
                        "gridcolor": "white",
                        "linecolor": "white",
                        "minorgridcolor": "white",
                        "startlinecolor": "rgb(36,36,36)"
                      },
                      "type": "carpet"
                    }
                  ],
                  "choropleth": [
                    {
                      "colorbar": {
                        "outlinewidth": 1,
                        "tickcolor": "rgb(36,36,36)",
                        "ticks": "outside"
                      },
                      "type": "choropleth"
                    }
                  ],
                  "contourcarpet": [
                    {
                      "colorbar": {
                        "outlinewidth": 1,
                        "tickcolor": "rgb(36,36,36)",
                        "ticks": "outside"
                      },
                      "type": "contourcarpet"
                    }
                  ],
                  "contour": [
                    {
                      "colorbar": {
                        "outlinewidth": 1,
                        "tickcolor": "rgb(36,36,36)",
                        "ticks": "outside"
                      },
                      "colorscale": [
                        [
                          0,
                          "#440154"
                        ],
                        [
                          0.1111111111111111,
                          "#482878"
                        ],
                        [
                          0.2222222222222222,
                          "#3e4989"
                        ],
                        [
                          0.3333333333333333,
                          "#31688e"
                        ],
                        [
                          0.4444444444444444,
                          "#26828e"
                        ],
                        [
                          0.5555555555555556,
                          "#1f9e89"
                        ],
                        [
                          0.6666666666666666,
                          "#35b779"
                        ],
                        [
                          0.7777777777777778,
                          "#6ece58"
                        ],
                        [
                          0.8888888888888888,
                          "#b5de2b"
                        ],
                        [
                          1,
                          "#fde725"
                        ]
                      ],
                      "type": "contour"
                    }
                  ],
                  "heatmapgl": [
                    {
                      "colorbar": {
                        "outlinewidth": 1,
                        "tickcolor": "rgb(36,36,36)",
                        "ticks": "outside"
                      },
                      "colorscale": [
                        [
                          0,
                          "#440154"
                        ],
                        [
                          0.1111111111111111,
                          "#482878"
                        ],
                        [
                          0.2222222222222222,
                          "#3e4989"
                        ],
                        [
                          0.3333333333333333,
                          "#31688e"
                        ],
                        [
                          0.4444444444444444,
                          "#26828e"
                        ],
                        [
                          0.5555555555555556,
                          "#1f9e89"
                        ],
                        [
                          0.6666666666666666,
                          "#35b779"
                        ],
                        [
                          0.7777777777777778,
                          "#6ece58"
                        ],
                        [
                          0.8888888888888888,
                          "#b5de2b"
                        ],
                        [
                          1,
                          "#fde725"
                        ]
                      ],
                      "type": "heatmapgl"
                    }
                  ],
                  "heatmap": [
                    {
                      "colorbar": {
                        "outlinewidth": 1,
                        "tickcolor": "rgb(36,36,36)",
                        "ticks": "outside"
                      },
                      "colorscale": [
                        [
                          0,
                          "#440154"
                        ],
                        [
                          0.1111111111111111,
                          "#482878"
                        ],
                        [
                          0.2222222222222222,
                          "#3e4989"
                        ],
                        [
                          0.3333333333333333,
                          "#31688e"
                        ],
                        [
                          0.4444444444444444,
                          "#26828e"
                        ],
                        [
                          0.5555555555555556,
                          "#1f9e89"
                        ],
                        [
                          0.6666666666666666,
                          "#35b779"
                        ],
                        [
                          0.7777777777777778,
                          "#6ece58"
                        ],
                        [
                          0.8888888888888888,
                          "#b5de2b"
                        ],
                        [
                          1,
                          "#fde725"
                        ]
                      ],
                      "type": "heatmap"
                    }
                  ],
                  "histogram2dcontour": [
                    {
                      "colorbar": {
                        "outlinewidth": 1,
                        "tickcolor": "rgb(36,36,36)",
                        "ticks": "outside"
                      },
                      "colorscale": [
                        [
                          0,
                          "#440154"
                        ],
                        [
                          0.1111111111111111,
                          "#482878"
                        ],
                        [
                          0.2222222222222222,
                          "#3e4989"
                        ],
                        [
                          0.3333333333333333,
                          "#31688e"
                        ],
                        [
                          0.4444444444444444,
                          "#26828e"
                        ],
                        [
                          0.5555555555555556,
                          "#1f9e89"
                        ],
                        [
                          0.6666666666666666,
                          "#35b779"
                        ],
                        [
                          0.7777777777777778,
                          "#6ece58"
                        ],
                        [
                          0.8888888888888888,
                          "#b5de2b"
                        ],
                        [
                          1,
                          "#fde725"
                        ]
                      ],
                      "type": "histogram2dcontour"
                    }
                  ],
                  "histogram2d": [
                    {
                      "colorbar": {
                        "outlinewidth": 1,
                        "tickcolor": "rgb(36,36,36)",
                        "ticks": "outside"
                      },
                      "colorscale": [
                        [
                          0,
                          "#440154"
                        ],
                        [
                          0.1111111111111111,
                          "#482878"
                        ],
                        [
                          0.2222222222222222,
                          "#3e4989"
                        ],
                        [
                          0.3333333333333333,
                          "#31688e"
                        ],
                        [
                          0.4444444444444444,
                          "#26828e"
                        ],
                        [
                          0.5555555555555556,
                          "#1f9e89"
                        ],
                        [
                          0.6666666666666666,
                          "#35b779"
                        ],
                        [
                          0.7777777777777778,
                          "#6ece58"
                        ],
                        [
                          0.8888888888888888,
                          "#b5de2b"
                        ],
                        [
                          1,
                          "#fde725"
                        ]
                      ],
                      "type": "histogram2d"
                    }
                  ],
                  "histogram": [
                    {
                      "marker": {
                        "line": {
                          "color": "white",
                          "width": 0.6
                        }
                      },
                      "type": "histogram"
                    }
                  ],
                  "mesh3d": [
                    {
                      "colorbar": {
                        "outlinewidth": 1,
                        "tickcolor": "rgb(36,36,36)",
                        "ticks": "outside"
                      },
                      "type": "mesh3d"
                    }
                  ],
                  "parcoords": [
                    {
                      "line": {
                        "colorbar": {
                          "outlinewidth": 1,
                          "tickcolor": "rgb(36,36,36)",
                          "ticks": "outside"
                        }
                      },
                      "type": "parcoords"
                    }
                  ],
                  "pie": [
                    {
                      "automargin": true,
                      "type": "pie"
                    }
                  ],
                  "scatter3d": [
                    {
                      "line": {
                        "colorbar": {
                          "outlinewidth": 1,
                          "tickcolor": "rgb(36,36,36)",
                          "ticks": "outside"
                        }
                      },
                      "marker": {
                        "colorbar": {
                          "outlinewidth": 1,
                          "tickcolor": "rgb(36,36,36)",
                          "ticks": "outside"
                        }
                      },
                      "type": "scatter3d"
                    }
                  ],
                  "scattercarpet": [
                    {
                      "marker": {
                        "colorbar": {
                          "outlinewidth": 1,
                          "tickcolor": "rgb(36,36,36)",
                          "ticks": "outside"
                        }
                      },
                      "type": "scattercarpet"
                    }
                  ],
                  "scattergeo": [
                    {
                      "marker": {
                        "colorbar": {
                          "outlinewidth": 1,
                          "tickcolor": "rgb(36,36,36)",
                          "ticks": "outside"
                        }
                      },
                      "type": "scattergeo"
                    }
                  ],
                  "scattergl": [
                    {
                      "marker": {
                        "colorbar": {
                          "outlinewidth": 1,
                          "tickcolor": "rgb(36,36,36)",
                          "ticks": "outside"
                        }
                      },
                      "type": "scattergl"
                    }
                  ],
                  "scattermapbox": [
                    {
                      "marker": {
                        "colorbar": {
                          "outlinewidth": 1,
                          "tickcolor": "rgb(36,36,36)",
                          "ticks": "outside"
                        }
                      },
                      "type": "scattermapbox"
                    }
                  ],
                  "scatterpolargl": [
                    {
                      "marker": {
                        "colorbar": {
                          "outlinewidth": 1,
                          "tickcolor": "rgb(36,36,36)",
                          "ticks": "outside"
                        }
                      },
                      "type": "scatterpolargl"
                    }
                  ],
                  "scatterpolar": [
                    {
                      "marker": {
                        "colorbar": {
                          "outlinewidth": 1,
                          "tickcolor": "rgb(36,36,36)",
                          "ticks": "outside"
                        }
                      },
                      "type": "scatterpolar"
                    }
                  ],
                  "scatter": [
                    {
                      "fillpattern": {
                        "fillmode": "overlay",
                        "size": 10,
                        "solidity": 0.2
                      },
                      "type": "scatter"
                    }
                  ],
                  "scatterternary": [
                    {
                      "marker": {
                        "colorbar": {
                          "outlinewidth": 1,
                          "tickcolor": "rgb(36,36,36)",
                          "ticks": "outside"
                        }
                      },
                      "type": "scatterternary"
                    }
                  ],
                  "surface": [
                    {
                      "colorbar": {
                        "outlinewidth": 1,
                        "tickcolor": "rgb(36,36,36)",
                        "ticks": "outside"
                      },
                      "colorscale": [
                        [
                          0,
                          "#440154"
                        ],
                        [
                          0.1111111111111111,
                          "#482878"
                        ],
                        [
                          0.2222222222222222,
                          "#3e4989"
                        ],
                        [
                          0.3333333333333333,
                          "#31688e"
                        ],
                        [
                          0.4444444444444444,
                          "#26828e"
                        ],
                        [
                          0.5555555555555556,
                          "#1f9e89"
                        ],
                        [
                          0.6666666666666666,
                          "#35b779"
                        ],
                        [
                          0.7777777777777778,
                          "#6ece58"
                        ],
                        [
                          0.8888888888888888,
                          "#b5de2b"
                        ],
                        [
                          1,
                          "#fde725"
                        ]
                      ],
                      "type": "surface"
                    }
                  ],
                  "table": [
                    {
                      "cells": {
                        "fill": {
                          "color": "rgb(237,237,237)"
                        },
                        "line": {
                          "color": "white"
                        }
                      },
                      "header": {
                        "fill": {
                          "color": "rgb(217,217,217)"
                        },
                        "line": {
                          "color": "white"
                        }
                      },
                      "type": "table"
                    }
                  ]
                },
                "layout": {
                  "annotationdefaults": {
                    "arrowhead": 0,
                    "arrowwidth": 1
                  },
                  "autotypenumbers": "strict",
                  "coloraxis": {
                    "colorbar": {
                      "outlinewidth": 1,
                      "tickcolor": "rgb(36,36,36)",
                      "ticks": "outside"
                    }
                  },
                  "colorscale": {
                    "diverging": [
                      [
                        0,
                        "rgb(103,0,31)"
                      ],
                      [
                        0.1,
                        "rgb(178,24,43)"
                      ],
                      [
                        0.2,
                        "rgb(214,96,77)"
                      ],
                      [
                        0.3,
                        "rgb(244,165,130)"
                      ],
                      [
                        0.4,
                        "rgb(253,219,199)"
                      ],
                      [
                        0.5,
                        "rgb(247,247,247)"
                      ],
                      [
                        0.6,
                        "rgb(209,229,240)"
                      ],
                      [
                        0.7,
                        "rgb(146,197,222)"
                      ],
                      [
                        0.8,
                        "rgb(67,147,195)"
                      ],
                      [
                        0.9,
                        "rgb(33,102,172)"
                      ],
                      [
                        1,
                        "rgb(5,48,97)"
                      ]
                    ],
                    "sequential": [
                      [
                        0,
                        "#440154"
                      ],
                      [
                        0.1111111111111111,
                        "#482878"
                      ],
                      [
                        0.2222222222222222,
                        "#3e4989"
                      ],
                      [
                        0.3333333333333333,
                        "#31688e"
                      ],
                      [
                        0.4444444444444444,
                        "#26828e"
                      ],
                      [
                        0.5555555555555556,
                        "#1f9e89"
                      ],
                      [
                        0.6666666666666666,
                        "#35b779"
                      ],
                      [
                        0.7777777777777778,
                        "#6ece58"
                      ],
                      [
                        0.8888888888888888,
                        "#b5de2b"
                      ],
                      [
                        1,
                        "#fde725"
                      ]
                    ],
                    "sequentialminus": [
                      [
                        0,
                        "#440154"
                      ],
                      [
                        0.1111111111111111,
                        "#482878"
                      ],
                      [
                        0.2222222222222222,
                        "#3e4989"
                      ],
                      [
                        0.3333333333333333,
                        "#31688e"
                      ],
                      [
                        0.4444444444444444,
                        "#26828e"
                      ],
                      [
                        0.5555555555555556,
                        "#1f9e89"
                      ],
                      [
                        0.6666666666666666,
                        "#35b779"
                      ],
                      [
                        0.7777777777777778,
                        "#6ece58"
                      ],
                      [
                        0.8888888888888888,
                        "#b5de2b"
                      ],
                      [
                        1,
                        "#fde725"
                      ]
                    ]
                  },
                  "colorway": [
                    "#1F77B4",
                    "#FF7F0E",
                    "#2CA02C",
                    "#D62728",
                    "#9467BD",
                    "#8C564B",
                    "#E377C2",
                    "#7F7F7F",
                    "#BCBD22",
                    "#17BECF"
                  ],
                  "font": {
                    "color": "rgb(36,36,36)"
                  },
                  "geo": {
                    "bgcolor": "white",
                    "lakecolor": "white",
                    "landcolor": "white",
                    "showlakes": true,
                    "showland": true,
                    "subunitcolor": "white"
                  },
                  "hoverlabel": {
                    "align": "left"
                  },
                  "hovermode": "closest",
                  "mapbox": {
                    "style": "light"
                  },
                  "paper_bgcolor": "white",
                  "plot_bgcolor": "white",
                  "polar": {
                    "angularaxis": {
                      "gridcolor": "rgb(232,232,232)",
                      "linecolor": "rgb(36,36,36)",
                      "showgrid": false,
                      "showline": true,
                      "ticks": "outside"
                    },
                    "bgcolor": "white",
                    "radialaxis": {
                      "gridcolor": "rgb(232,232,232)",
                      "linecolor": "rgb(36,36,36)",
                      "showgrid": false,
                      "showline": true,
                      "ticks": "outside"
                    }
                  },
                  "scene": {
                    "xaxis": {
                      "backgroundcolor": "white",
                      "gridcolor": "rgb(232,232,232)",
                      "gridwidth": 2,
                      "linecolor": "rgb(36,36,36)",
                      "showbackground": true,
                      "showgrid": false,
                      "showline": true,
                      "ticks": "outside",
                      "zeroline": false,
                      "zerolinecolor": "rgb(36,36,36)"
                    },
                    "yaxis": {
                      "backgroundcolor": "white",
                      "gridcolor": "rgb(232,232,232)",
                      "gridwidth": 2,
                      "linecolor": "rgb(36,36,36)",
                      "showbackground": true,
                      "showgrid": false,
                      "showline": true,
                      "ticks": "outside",
                      "zeroline": false,
                      "zerolinecolor": "rgb(36,36,36)"
                    },
                    "zaxis": {
                      "backgroundcolor": "white",
                      "gridcolor": "rgb(232,232,232)",
                      "gridwidth": 2,
                      "linecolor": "rgb(36,36,36)",
                      "showbackground": true,
                      "showgrid": false,
                      "showline": true,
                      "ticks": "outside",
                      "zeroline": false,
                      "zerolinecolor": "rgb(36,36,36)"
                    }
                  },
                  "shapedefaults": {
                    "fillcolor": "black",
                    "line": {
                      "width": 0
                    },
                    "opacity": 0.3
                  },
                  "ternary": {
                    "aaxis": {
                      "gridcolor": "rgb(232,232,232)",
                      "linecolor": "rgb(36,36,36)",
                      "showgrid": false,
                      "showline": true,
                      "ticks": "outside"
                    },
                    "baxis": {
                      "gridcolor": "rgb(232,232,232)",
                      "linecolor": "rgb(36,36,36)",
                      "showgrid": false,
                      "showline": true,
                      "ticks": "outside"
                    },
                    "bgcolor": "white",
                    "caxis": {
                      "gridcolor": "rgb(232,232,232)",
                      "linecolor": "rgb(36,36,36)",
                      "showgrid": false,
                      "showline": true,
                      "ticks": "outside"
                    }
                  },
                  "title": {
                    "x": 0.05
                  },
                  "xaxis": {
                    "automargin": true,
                    "gridcolor": "rgb(232,232,232)",
                    "linecolor": "rgb(36,36,36)",
                    "showgrid": false,
                    "showline": true,
                    "ticks": "outside",
                    "title": {
                      "standoff": 15
                    },
                    "zeroline": false,
                    "zerolinecolor": "rgb(36,36,36)"
                  },
                  "yaxis": {
                    "automargin": true,
                    "gridcolor": "rgb(232,232,232)",
                    "linecolor": "rgb(36,36,36)",
                    "showgrid": false,
                    "showline": true,
                    "ticks": "outside",
                    "title": {
                      "standoff": 15
                    },
                    "zeroline": false,
                    "zerolinecolor": "rgb(36,36,36)"
                  }
                }
              },
              "width": 850,
              "xaxis": {
                "anchor": "y",
                "domain": [
                  0,
                  0.4814814814814815
                ],
                "showline": false,
                "ticks": "",
                "title": {
                  "text": "Type of cycle"
                }
              },
              "yaxis": {
                "anchor": "x",
                "domain": [
                  0,
                  1
                ],
                "title": {
                  "text": "Flux"
                },
                "zeroline": false
              },
              "xaxis2": {
                "anchor": "y2",
                "domain": [
                  0.5481481481481482,
                  0.7407407407407407
                ],
                "showline": false,
                "ticks": ""
              },
              "yaxis2": {
                "anchor": "x2",
                "domain": [
                  0,
                  1
                ],
                "zeroline": false
              },
              "xaxis3": {
                "anchor": "y3",
                "domain": [
                  0.8074074074074074,
                  1
                ],
                "showline": false,
                "ticks": ""
              },
              "yaxis3": {
                "anchor": "x3",
                "domain": [
                  0,
                  1
                ],
                "zeroline": false
              }
            },
            "_model_module": "jupyterlab-plotly",
            "_model_module_version": "^5.24.1",
            "_model_name": "FigureModel",
            "_py2js_addTraces": {},
            "_py2js_animate": {},
            "_py2js_deleteTraces": {},
            "_py2js_moveTraces": {},
            "_py2js_relayout": {},
            "_py2js_removeLayoutProps": {},
            "_py2js_removeTraceProps": {},
            "_py2js_restyle": null,
            "_py2js_update": {},
            "_view_count": 1,
            "_view_module": "jupyterlab-plotly",
            "_view_module_version": "^5.24.1",
            "_view_name": "FigureView"
          }
        },
        "c42ae5b7f4ab4357b3065a1b5cef34fb": {
          "model_module": "@jupyter-widgets/controls",
          "model_name": "HBoxModel",
          "model_module_version": "1.5.0",
          "state": {
            "_dom_classes": [],
            "_model_module": "@jupyter-widgets/controls",
            "_model_module_version": "1.5.0",
            "_model_name": "HBoxModel",
            "_view_count": null,
            "_view_module": "@jupyter-widgets/controls",
            "_view_module_version": "1.5.0",
            "_view_name": "HBoxView",
            "box_style": "",
            "children": [
              "IPY_MODEL_75ab7af2215f4fcdbb5b81851d6a2b29",
              "IPY_MODEL_3fa8827059ee4fe6b8ccfbbad4158d14",
              "IPY_MODEL_0faf9bb96ea547ca85e88e102036901b"
            ],
            "layout": "IPY_MODEL_e165f8a551fd4fa684e9e06300e74abf"
          }
        },
        "56aeec3ef70641048fd501d9876a5126": {
          "model_module": "@jupyter-widgets/controls",
          "model_name": "HBoxModel",
          "model_module_version": "1.5.0",
          "state": {
            "_dom_classes": [],
            "_model_module": "@jupyter-widgets/controls",
            "_model_module_version": "1.5.0",
            "_model_name": "HBoxModel",
            "_view_count": null,
            "_view_module": "@jupyter-widgets/controls",
            "_view_module_version": "1.5.0",
            "_view_name": "HBoxView",
            "box_style": "",
            "children": [
              "IPY_MODEL_d1243ea2642a4255bc9226fd8ea77fd4",
              "IPY_MODEL_9e5179dc1a5242a891e80a79e7cb116a"
            ],
            "layout": "IPY_MODEL_b1a68327a3414c32b7158c3c195f5d72"
          }
        },
        "54c0b823a3fd43e5a1ee7aed6bb116e2": {
          "model_module": "@jupyter-widgets/base",
          "model_name": "LayoutModel",
          "model_module_version": "1.2.0",
          "state": {
            "_model_module": "@jupyter-widgets/base",
            "_model_module_version": "1.2.0",
            "_model_name": "LayoutModel",
            "_view_count": null,
            "_view_module": "@jupyter-widgets/base",
            "_view_module_version": "1.2.0",
            "_view_name": "LayoutView",
            "align_content": null,
            "align_items": null,
            "align_self": null,
            "border": null,
            "bottom": null,
            "display": null,
            "flex": null,
            "flex_flow": null,
            "grid_area": null,
            "grid_auto_columns": null,
            "grid_auto_flow": null,
            "grid_auto_rows": null,
            "grid_column": null,
            "grid_gap": null,
            "grid_row": null,
            "grid_template_areas": null,
            "grid_template_columns": null,
            "grid_template_rows": null,
            "height": null,
            "justify_content": null,
            "justify_items": null,
            "left": null,
            "margin": null,
            "max_height": null,
            "max_width": null,
            "min_height": null,
            "min_width": null,
            "object_fit": null,
            "object_position": null,
            "order": null,
            "overflow": null,
            "overflow_x": null,
            "overflow_y": null,
            "padding": null,
            "right": null,
            "top": null,
            "visibility": null,
            "width": null
          }
        },
        "75ab7af2215f4fcdbb5b81851d6a2b29": {
          "model_module": "@jupyter-widgets/controls",
          "model_name": "FloatSliderModel",
          "model_module_version": "1.5.0",
          "state": {
            "_dom_classes": [],
            "_model_module": "@jupyter-widgets/controls",
            "_model_module_version": "1.5.0",
            "_model_name": "FloatSliderModel",
            "_view_count": null,
            "_view_module": "@jupyter-widgets/controls",
            "_view_module_version": "1.5.0",
            "_view_name": "FloatSliderView",
            "continuous_update": true,
            "description": "μ",
            "description_tooltip": null,
            "disabled": false,
            "layout": "IPY_MODEL_c4a5e0951e5a4b438c03cdb26cd2bbf1",
            "max": 4,
            "min": 0,
            "orientation": "horizontal",
            "readout": true,
            "readout_format": ".2f",
            "step": 0.1,
            "style": "IPY_MODEL_56f09f7a3d85445292fed99bdde6c129",
            "value": 1.3
          }
        },
        "3fa8827059ee4fe6b8ccfbbad4158d14": {
          "model_module": "@jupyter-widgets/controls",
          "model_name": "FloatSliderModel",
          "model_module_version": "1.5.0",
          "state": {
            "_dom_classes": [],
            "_model_module": "@jupyter-widgets/controls",
            "_model_module_version": "1.5.0",
            "_model_name": "FloatSliderModel",
            "_view_count": null,
            "_view_module": "@jupyter-widgets/controls",
            "_view_module_version": "1.5.0",
            "_view_name": "FloatSliderView",
            "continuous_update": true,
            "description": "ln(q)",
            "description_tooltip": null,
            "disabled": false,
            "layout": "IPY_MODEL_82ad1239f0534b949b127180a4208588",
            "max": 3,
            "min": 0,
            "orientation": "horizontal",
            "readout": true,
            "readout_format": ".2f",
            "step": 0.1,
            "style": "IPY_MODEL_0cd1c5f1d2304037b9021ac0a3423a08",
            "value": 1
          }
        },
        "0faf9bb96ea547ca85e88e102036901b": {
          "model_module": "@jupyter-widgets/controls",
          "model_name": "FloatSliderModel",
          "model_module_version": "1.5.0",
          "state": {
            "_dom_classes": [],
            "_model_module": "@jupyter-widgets/controls",
            "_model_module_version": "1.5.0",
            "_model_name": "FloatSliderModel",
            "_view_count": null,
            "_view_module": "@jupyter-widgets/controls",
            "_view_module_version": "1.5.0",
            "_view_name": "FloatSliderView",
            "continuous_update": true,
            "description": "W",
            "description_tooltip": null,
            "disabled": false,
            "layout": "IPY_MODEL_ba220ab585a44cc6896cb44c91165a20",
            "max": 4,
            "min": -4,
            "orientation": "horizontal",
            "readout": true,
            "readout_format": ".2f",
            "step": 0.1,
            "style": "IPY_MODEL_d21bd085eaa145f9a53c7a6f551c00ab",
            "value": 0
          }
        },
        "e165f8a551fd4fa684e9e06300e74abf": {
          "model_module": "@jupyter-widgets/base",
          "model_name": "LayoutModel",
          "model_module_version": "1.2.0",
          "state": {
            "_model_module": "@jupyter-widgets/base",
            "_model_module_version": "1.2.0",
            "_model_name": "LayoutModel",
            "_view_count": null,
            "_view_module": "@jupyter-widgets/base",
            "_view_module_version": "1.2.0",
            "_view_name": "LayoutView",
            "align_content": null,
            "align_items": null,
            "align_self": null,
            "border": null,
            "bottom": null,
            "display": null,
            "flex": null,
            "flex_flow": null,
            "grid_area": null,
            "grid_auto_columns": null,
            "grid_auto_flow": null,
            "grid_auto_rows": null,
            "grid_column": null,
            "grid_gap": null,
            "grid_row": null,
            "grid_template_areas": null,
            "grid_template_columns": null,
            "grid_template_rows": null,
            "height": null,
            "justify_content": null,
            "justify_items": null,
            "left": null,
            "margin": null,
            "max_height": null,
            "max_width": null,
            "min_height": null,
            "min_width": null,
            "object_fit": null,
            "object_position": null,
            "order": null,
            "overflow": null,
            "overflow_x": null,
            "overflow_y": null,
            "padding": null,
            "right": null,
            "top": null,
            "visibility": null,
            "width": null
          }
        },
        "d1243ea2642a4255bc9226fd8ea77fd4": {
          "model_module": "@jupyter-widgets/controls",
          "model_name": "FloatSliderModel",
          "model_module_version": "1.5.0",
          "state": {
            "_dom_classes": [],
            "_model_module": "@jupyter-widgets/controls",
            "_model_module_version": "1.5.0",
            "_model_name": "FloatSliderModel",
            "_view_count": null,
            "_view_module": "@jupyter-widgets/controls",
            "_view_module_version": "1.5.0",
            "_view_name": "FloatSliderView",
            "continuous_update": true,
            "description": "Γ",
            "description_tooltip": null,
            "disabled": false,
            "layout": "IPY_MODEL_efcbc5c826834704be9140fad1b3e356",
            "max": 10,
            "min": 0,
            "orientation": "horizontal",
            "readout": true,
            "readout_format": ".2f",
            "step": 0.01,
            "style": "IPY_MODEL_b995a5dafbd9469d9b98d708832a4f38",
            "value": 0.1
          }
        },
        "9e5179dc1a5242a891e80a79e7cb116a": {
          "model_module": "@jupyter-widgets/controls",
          "model_name": "FloatSliderModel",
          "model_module_version": "1.5.0",
          "state": {
            "_dom_classes": [],
            "_model_module": "@jupyter-widgets/controls",
            "_model_module_version": "1.5.0",
            "_model_name": "FloatSliderModel",
            "_view_count": null,
            "_view_module": "@jupyter-widgets/controls",
            "_view_module_version": "1.5.0",
            "_view_name": "FloatSliderView",
            "continuous_update": true,
            "description": "Λ",
            "description_tooltip": null,
            "disabled": false,
            "layout": "IPY_MODEL_7f8c959cb8a2468aa3f72fcdcc073616",
            "max": 10,
            "min": 0,
            "orientation": "horizontal",
            "readout": true,
            "readout_format": ".2f",
            "step": 0.01,
            "style": "IPY_MODEL_0c43d58c3b134a27836e13b789178121",
            "value": 0.1
          }
        },
        "b1a68327a3414c32b7158c3c195f5d72": {
          "model_module": "@jupyter-widgets/base",
          "model_name": "LayoutModel",
          "model_module_version": "1.2.0",
          "state": {
            "_model_module": "@jupyter-widgets/base",
            "_model_module_version": "1.2.0",
            "_model_name": "LayoutModel",
            "_view_count": null,
            "_view_module": "@jupyter-widgets/base",
            "_view_module_version": "1.2.0",
            "_view_name": "LayoutView",
            "align_content": null,
            "align_items": null,
            "align_self": null,
            "border": null,
            "bottom": null,
            "display": null,
            "flex": null,
            "flex_flow": null,
            "grid_area": null,
            "grid_auto_columns": null,
            "grid_auto_flow": null,
            "grid_auto_rows": null,
            "grid_column": null,
            "grid_gap": null,
            "grid_row": null,
            "grid_template_areas": null,
            "grid_template_columns": null,
            "grid_template_rows": null,
            "height": null,
            "justify_content": null,
            "justify_items": null,
            "left": null,
            "margin": null,
            "max_height": null,
            "max_width": null,
            "min_height": null,
            "min_width": null,
            "object_fit": null,
            "object_position": null,
            "order": null,
            "overflow": null,
            "overflow_x": null,
            "overflow_y": null,
            "padding": null,
            "right": null,
            "top": null,
            "visibility": null,
            "width": null
          }
        },
        "c4a5e0951e5a4b438c03cdb26cd2bbf1": {
          "model_module": "@jupyter-widgets/base",
          "model_name": "LayoutModel",
          "model_module_version": "1.2.0",
          "state": {
            "_model_module": "@jupyter-widgets/base",
            "_model_module_version": "1.2.0",
            "_model_name": "LayoutModel",
            "_view_count": null,
            "_view_module": "@jupyter-widgets/base",
            "_view_module_version": "1.2.0",
            "_view_name": "LayoutView",
            "align_content": null,
            "align_items": null,
            "align_self": null,
            "border": null,
            "bottom": null,
            "display": null,
            "flex": null,
            "flex_flow": null,
            "grid_area": null,
            "grid_auto_columns": null,
            "grid_auto_flow": null,
            "grid_auto_rows": null,
            "grid_column": null,
            "grid_gap": null,
            "grid_row": null,
            "grid_template_areas": null,
            "grid_template_columns": null,
            "grid_template_rows": null,
            "height": null,
            "justify_content": null,
            "justify_items": null,
            "left": null,
            "margin": null,
            "max_height": null,
            "max_width": null,
            "min_height": null,
            "min_width": null,
            "object_fit": null,
            "object_position": null,
            "order": null,
            "overflow": null,
            "overflow_x": null,
            "overflow_y": null,
            "padding": null,
            "right": null,
            "top": null,
            "visibility": null,
            "width": null
          }
        },
        "56f09f7a3d85445292fed99bdde6c129": {
          "model_module": "@jupyter-widgets/controls",
          "model_name": "SliderStyleModel",
          "model_module_version": "1.5.0",
          "state": {
            "_model_module": "@jupyter-widgets/controls",
            "_model_module_version": "1.5.0",
            "_model_name": "SliderStyleModel",
            "_view_count": null,
            "_view_module": "@jupyter-widgets/base",
            "_view_module_version": "1.2.0",
            "_view_name": "StyleView",
            "description_width": "",
            "handle_color": null
          }
        },
        "82ad1239f0534b949b127180a4208588": {
          "model_module": "@jupyter-widgets/base",
          "model_name": "LayoutModel",
          "model_module_version": "1.2.0",
          "state": {
            "_model_module": "@jupyter-widgets/base",
            "_model_module_version": "1.2.0",
            "_model_name": "LayoutModel",
            "_view_count": null,
            "_view_module": "@jupyter-widgets/base",
            "_view_module_version": "1.2.0",
            "_view_name": "LayoutView",
            "align_content": null,
            "align_items": null,
            "align_self": null,
            "border": null,
            "bottom": null,
            "display": null,
            "flex": null,
            "flex_flow": null,
            "grid_area": null,
            "grid_auto_columns": null,
            "grid_auto_flow": null,
            "grid_auto_rows": null,
            "grid_column": null,
            "grid_gap": null,
            "grid_row": null,
            "grid_template_areas": null,
            "grid_template_columns": null,
            "grid_template_rows": null,
            "height": null,
            "justify_content": null,
            "justify_items": null,
            "left": null,
            "margin": null,
            "max_height": null,
            "max_width": null,
            "min_height": null,
            "min_width": null,
            "object_fit": null,
            "object_position": null,
            "order": null,
            "overflow": null,
            "overflow_x": null,
            "overflow_y": null,
            "padding": null,
            "right": null,
            "top": null,
            "visibility": null,
            "width": null
          }
        },
        "0cd1c5f1d2304037b9021ac0a3423a08": {
          "model_module": "@jupyter-widgets/controls",
          "model_name": "SliderStyleModel",
          "model_module_version": "1.5.0",
          "state": {
            "_model_module": "@jupyter-widgets/controls",
            "_model_module_version": "1.5.0",
            "_model_name": "SliderStyleModel",
            "_view_count": null,
            "_view_module": "@jupyter-widgets/base",
            "_view_module_version": "1.2.0",
            "_view_name": "StyleView",
            "description_width": "",
            "handle_color": null
          }
        },
        "ba220ab585a44cc6896cb44c91165a20": {
          "model_module": "@jupyter-widgets/base",
          "model_name": "LayoutModel",
          "model_module_version": "1.2.0",
          "state": {
            "_model_module": "@jupyter-widgets/base",
            "_model_module_version": "1.2.0",
            "_model_name": "LayoutModel",
            "_view_count": null,
            "_view_module": "@jupyter-widgets/base",
            "_view_module_version": "1.2.0",
            "_view_name": "LayoutView",
            "align_content": null,
            "align_items": null,
            "align_self": null,
            "border": null,
            "bottom": null,
            "display": null,
            "flex": null,
            "flex_flow": null,
            "grid_area": null,
            "grid_auto_columns": null,
            "grid_auto_flow": null,
            "grid_auto_rows": null,
            "grid_column": null,
            "grid_gap": null,
            "grid_row": null,
            "grid_template_areas": null,
            "grid_template_columns": null,
            "grid_template_rows": null,
            "height": null,
            "justify_content": null,
            "justify_items": null,
            "left": null,
            "margin": null,
            "max_height": null,
            "max_width": null,
            "min_height": null,
            "min_width": null,
            "object_fit": null,
            "object_position": null,
            "order": null,
            "overflow": null,
            "overflow_x": null,
            "overflow_y": null,
            "padding": null,
            "right": null,
            "top": null,
            "visibility": null,
            "width": null
          }
        },
        "d21bd085eaa145f9a53c7a6f551c00ab": {
          "model_module": "@jupyter-widgets/controls",
          "model_name": "SliderStyleModel",
          "model_module_version": "1.5.0",
          "state": {
            "_model_module": "@jupyter-widgets/controls",
            "_model_module_version": "1.5.0",
            "_model_name": "SliderStyleModel",
            "_view_count": null,
            "_view_module": "@jupyter-widgets/base",
            "_view_module_version": "1.2.0",
            "_view_name": "StyleView",
            "description_width": "",
            "handle_color": null
          }
        },
        "efcbc5c826834704be9140fad1b3e356": {
          "model_module": "@jupyter-widgets/base",
          "model_name": "LayoutModel",
          "model_module_version": "1.2.0",
          "state": {
            "_model_module": "@jupyter-widgets/base",
            "_model_module_version": "1.2.0",
            "_model_name": "LayoutModel",
            "_view_count": null,
            "_view_module": "@jupyter-widgets/base",
            "_view_module_version": "1.2.0",
            "_view_name": "LayoutView",
            "align_content": null,
            "align_items": null,
            "align_self": null,
            "border": null,
            "bottom": null,
            "display": null,
            "flex": null,
            "flex_flow": null,
            "grid_area": null,
            "grid_auto_columns": null,
            "grid_auto_flow": null,
            "grid_auto_rows": null,
            "grid_column": null,
            "grid_gap": null,
            "grid_row": null,
            "grid_template_areas": null,
            "grid_template_columns": null,
            "grid_template_rows": null,
            "height": null,
            "justify_content": null,
            "justify_items": null,
            "left": null,
            "margin": null,
            "max_height": null,
            "max_width": null,
            "min_height": null,
            "min_width": null,
            "object_fit": null,
            "object_position": null,
            "order": null,
            "overflow": null,
            "overflow_x": null,
            "overflow_y": null,
            "padding": null,
            "right": null,
            "top": null,
            "visibility": null,
            "width": null
          }
        },
        "b995a5dafbd9469d9b98d708832a4f38": {
          "model_module": "@jupyter-widgets/controls",
          "model_name": "SliderStyleModel",
          "model_module_version": "1.5.0",
          "state": {
            "_model_module": "@jupyter-widgets/controls",
            "_model_module_version": "1.5.0",
            "_model_name": "SliderStyleModel",
            "_view_count": null,
            "_view_module": "@jupyter-widgets/base",
            "_view_module_version": "1.2.0",
            "_view_name": "StyleView",
            "description_width": "",
            "handle_color": null
          }
        },
        "7f8c959cb8a2468aa3f72fcdcc073616": {
          "model_module": "@jupyter-widgets/base",
          "model_name": "LayoutModel",
          "model_module_version": "1.2.0",
          "state": {
            "_model_module": "@jupyter-widgets/base",
            "_model_module_version": "1.2.0",
            "_model_name": "LayoutModel",
            "_view_count": null,
            "_view_module": "@jupyter-widgets/base",
            "_view_module_version": "1.2.0",
            "_view_name": "LayoutView",
            "align_content": null,
            "align_items": null,
            "align_self": null,
            "border": null,
            "bottom": null,
            "display": null,
            "flex": null,
            "flex_flow": null,
            "grid_area": null,
            "grid_auto_columns": null,
            "grid_auto_flow": null,
            "grid_auto_rows": null,
            "grid_column": null,
            "grid_gap": null,
            "grid_row": null,
            "grid_template_areas": null,
            "grid_template_columns": null,
            "grid_template_rows": null,
            "height": null,
            "justify_content": null,
            "justify_items": null,
            "left": null,
            "margin": null,
            "max_height": null,
            "max_width": null,
            "min_height": null,
            "min_width": null,
            "object_fit": null,
            "object_position": null,
            "order": null,
            "overflow": null,
            "overflow_x": null,
            "overflow_y": null,
            "padding": null,
            "right": null,
            "top": null,
            "visibility": null,
            "width": null
          }
        },
        "0c43d58c3b134a27836e13b789178121": {
          "model_module": "@jupyter-widgets/controls",
          "model_name": "SliderStyleModel",
          "model_module_version": "1.5.0",
          "state": {
            "_model_module": "@jupyter-widgets/controls",
            "_model_module_version": "1.5.0",
            "_model_name": "SliderStyleModel",
            "_view_count": null,
            "_view_module": "@jupyter-widgets/base",
            "_view_module_version": "1.2.0",
            "_view_name": "StyleView",
            "description_width": "",
            "handle_color": null
          }
        }
      }
    }
  },
  "cells": [
    {
      "cell_type": "markdown",
      "source": [
        "# **Structure-performance relationships for catalysis-driven molecular machinery**\n",
        "\n",
        "In this Jupyter notebook we produce an interactive visualization of the flux through different types of cycles in a molecular motor as its design parameters vary.\n",
        "\n",
        "To run this Jupyter notebook click on \"Run all\" or \"Runtime -> Run all\". Scroll to the bottom of the page to see the interactive visualization."
      ],
      "metadata": {
        "id": "3u2zf4EsMhrW"
      }
    },
    {
      "cell_type": "markdown",
      "source": [
        "## **Set up**\n",
        "\n",
        "Code for the generation of the figures."
      ],
      "metadata": {
        "id": "v6EGbjmBM5tE"
      }
    },
    {
      "cell_type": "code",
      "source": [
        "from google.colab import output\n",
        "output.enable_custom_widget_manager()"
      ],
      "metadata": {
        "id": "U_SJ_n0ecNNn"
      },
      "execution_count": 11,
      "outputs": []
    },
    {
      "cell_type": "code",
      "source": [
        "import numpy as np\n",
        "import plotly.graph_objects as go\n",
        "from plotly.subplots import make_subplots\n",
        "from ipywidgets import FloatSlider, VBox, HBox\n",
        "\n",
        "# ---------- maths ----------\n",
        "def get_fluxes(mu, ln_q, W, slip, futile):\n",
        "    \"\"\"Return 8 fluxes.\"\"\"\n",
        "    sqrt_q, sqrt_Q, sqrt_W = np.exp(ln_q/2), np.exp(mu/2), np.exp(W/2)\n",
        "    F,  Ft = sqrt_q * sqrt_Q / sqrt_W, sqrt_q / sqrt_Q * sqrt_W\n",
        "    B,  Bt = 1 / sqrt_q * sqrt_Q * sqrt_W, 1 / sqrt_q / sqrt_Q / sqrt_W\n",
        "    S,  St = slip / sqrt_q / sqrt_W, slip / sqrt_q * sqrt_W\n",
        "    C,  Ct = futile / sqrt_q * sqrt_Q, futile / sqrt_q / sqrt_Q\n",
        "    return F, Ft, B, Bt, S, St, C, Ct\n",
        "\n",
        "# ───────────────── colours / labels ─────\n",
        "cols      = [\"#007134\", \"#7fb799\", \"#BA0D20\", \"#dc858f\"] + [\"#9292C9\"]*4\n",
        "rot_cols  = [cols[0], cols[3], cols[4], cols[1], cols[2], cols[5]]\n",
        "rot_labs  = [\"F\", \"B⁺\", \"S\", \"F⁺\", \"B\", \"S⁺\"]\n",
        "fuel_cols = [cols[0], cols[2], cols[6], cols[1], cols[3], cols[7]]\n",
        "fuel_labs = [\"F\", \"B\", \"C\", \"F⁺\", \"B⁺\", \"C⁺\"]\n",
        "\n",
        "\n",
        "# ───────────────── helpers ──────────────\n",
        "def add_seg(fig, *, row, col, x, label, colour):\n",
        "    \"\"\"Add a single stacked-bar trace (initial y=0).\"\"\"\n",
        "    fig.add_trace(\n",
        "        go.Bar(\n",
        "            x=x, y=[0, 0],\n",
        "            marker=dict(color=colour, line=dict(color=\"black\", width=1)),\n",
        "            hovertemplate=f\"{label}: %{{y:.3f}}<extra></extra>\",\n",
        "            showlegend=False,\n",
        "            name=label,\n",
        "        ),\n",
        "        row=row, col=col,\n",
        "    )\n",
        "\n",
        "\n",
        "def build_skeleton() -> go.Figure:\n",
        "    \"\"\"Figure with all traces in place (heights zero).\"\"\"\n",
        "    fig = make_subplots(\n",
        "        rows=1, cols=3,\n",
        "        column_widths=[2.5, 1, 1],\n",
        "        subplot_titles=(\"All fluxes\", \"Mechanical flux\", \"Chemical flux\"),\n",
        "    )\n",
        "    # left panel - eight solo bars\n",
        "    fig.add_trace(\n",
        "        go.Bar(\n",
        "            x=[\"F\", \"F⁺\", \"B\", \"B⁺\", \"S\", \"S⁺\", \"C\", \"C⁺\"],\n",
        "            y=[0]*8,\n",
        "            marker=dict(color=cols, line=dict(color='black', width=1)),\n",
        "            hovertemplate=\"%{x}: %{y:.3f}<extra></extra>\",\n",
        "            showlegend=False,\n",
        "        ),\n",
        "        row=1, col=1,\n",
        "    )\n",
        "    # middle panel - rotation\n",
        "    for lab, c in zip(rot_labs, rot_cols):\n",
        "        add_seg(fig, row=1, col=2, x=[\"Clockwise\", \"Counterclockwise\"], label=lab, colour=c)\n",
        "    # right panel - fuel\n",
        "    for lab, c in zip(fuel_labs, fuel_cols):\n",
        "        add_seg(fig, row=1, col=3, x=[\"Fuel to waste\", \"Waste to fuel\"], label=lab, colour=c)\n",
        "\n",
        "    fig.update_layout(\n",
        "        barmode=\"stack\", template=\"simple_white\",\n",
        "        bargap=0.15, width=850, height=450,\n",
        "        margin=dict(l=30, r=10, t=30, b=30),\n",
        "    )\n",
        "    fig.update_xaxes(showline=False, ticks=\"\"); fig.update_yaxes(zeroline=False)\n",
        "    fig.update_yaxes(title_text=\"Flux\", row=1, col=1)# anywhere after figw is created\n",
        "    fig.update_xaxes(title_text=\"Type of cycle\", row=1, col=1)\n",
        "\n",
        "    return fig\n",
        "\n",
        "\n",
        "# ───────────────── build widgets ────────\n",
        "figw = go.FigureWidget(build_skeleton())\n",
        "\n",
        "μ_sl    = FloatSlider(value=1.3, min=0, max=4, step=0.1, description=\"μ\")\n",
        "lnq_sl  = FloatSlider(value=1.0, min=0, max=3, step=0.1, description=\"ln(q)\")\n",
        "W_sl    = FloatSlider(value=0.0, min=-4, max=4, step=0.1, description=\"W\")\n",
        "slip_sl = FloatSlider(value=0.1, min=0,  max=10, step=0.01, description=\"Γ\")\n",
        "fut_sl  = FloatSlider(value=0.1, min=0,  max=10, step=0.01, description=\"Λ\")\n",
        "\n",
        "\n",
        "# ───────────────── callback ─────────────\n",
        "def update(_=None):\n",
        "    F, Ft, B, Bt, S, St, C, Ct = get_fluxes(\n",
        "        μ_sl.value, lnq_sl.value, W_sl.value, slip_sl.value, fut_sl.value\n",
        "    )\n",
        "\n",
        "    # left panel\n",
        "    figw.data[0].y = [F, Ft, B, Bt, S, St, C, Ct]\n",
        "\n",
        "    # middle panel (traces 1–6)\n",
        "    for t, pair in zip(\n",
        "        figw.data[1:7],\n",
        "        ([F, 0], [Bt, 0], [S, 0], [0, Ft], [0, B], [0, St]),\n",
        "    ):\n",
        "        t.y = pair\n",
        "\n",
        "    # right panel (traces 7–12)\n",
        "    for t, pair in zip(\n",
        "        figw.data[7:],\n",
        "        ([F, 0], [B, 0], [C, 0], [0, Ft], [0, Bt], [0, Ct]),\n",
        "    ):\n",
        "        t.y = pair\n",
        "\n",
        "\n",
        "for s in (μ_sl, lnq_sl, W_sl, slip_sl, fut_sl):\n",
        "    s.observe(update, names='value')\n",
        "\n",
        "\n",
        "# ───────────────── expose to notebook ───\n",
        "box = VBox([figw,\n",
        "      HBox([μ_sl, lnq_sl, W_sl]),\n",
        "      HBox([slip_sl, fut_sl])])\n",
        "\n",
        "def _init_on_frontend(_): update()\n",
        "figw.on_displayed(_init_on_frontend)"
      ],
      "metadata": {
        "id": "vXLpHowNYXfK"
      },
      "execution_count": 12,
      "outputs": []
    },
    {
      "cell_type": "code",
      "source": [
        "# vector, razor-sharp\n",
        "%config InlineBackend.figure_format = 'svg'      # or: 'pdf'"
      ],
      "metadata": {
        "id": "mOabl3fiUtp7"
      },
      "execution_count": 13,
      "outputs": []
    },
    {
      "cell_type": "code",
      "source": [
        "import matplotlib.pyplot as plt\n",
        "\n",
        "\n",
        "# dataset for the two legend tables\n",
        "table1 = [\n",
        "    [\"F\", \"Forward\"],\n",
        "    [\"F⁺\", \"Forward reverse\"],\n",
        "    [\"B\", \"Backward\"],\n",
        "    [\"B⁺\", \"Backward reverse\"],\n",
        "    [\"S\", \"Slip\"],\n",
        "    [\"S⁺\", \"Slip reverse\"],\n",
        "    [\"C\", \"Futile cycling\"],\n",
        "    [\"C⁺\", \"Reverse futile cycling\"],\n",
        "]\n",
        "\n",
        "table2 = [\n",
        "    [\"μ\", \"Driving chemical potential\"],\n",
        "    [\"W\", \"Work per cycle\"],\n",
        "    [\"ln q\", \"Kinetic asymmetry\"],\n",
        "    [\"Λ\", \"Futile-cycle propensity\"],\n",
        "    [\"Γ\", \"Slipping propensity\"],\n",
        "]\n",
        "\n",
        "# build single-axis figure with two side-by-side tables\n",
        "fig, ax = plt.subplots(figsize=(6, 4))\n",
        "ax.axis(\"off\")  # hide axis frame\n",
        "\n",
        "#–––– left legend ––––\n",
        "tbl1 = ax.table(\n",
        "    cellText=table1,\n",
        "    colLabels=[\"Symbol\", \"Meaning\"],\n",
        "    colWidths=[0.08, 0.17],\n",
        "    cellLoc=\"center\",\n",
        "    colLoc=\"center\",\n",
        "    bbox=[0.35, 0.00, 0.44, 0.50],\n",
        ")\n",
        "\n",
        "#–––– right legend ––––\n",
        "tbl2 = ax.table(\n",
        "    cellText=table2,\n",
        "    colLabels=[\"Symbol\", \"Meaning\"],\n",
        "    colWidths=[0.12, 0.45],\n",
        "    cellLoc=\"center\",\n",
        "    colLoc=\"center\",\n",
        "    bbox=[0.87, 0.00, 0.50, 0.40],\n",
        ")\n",
        "\n",
        "\n",
        "for tbl in [tbl1, tbl2]:\n",
        "  tbl.auto_set_font_size(False)\n",
        "  tbl.set_fontsize(8)\n",
        "  tbl.scale(0.5, 0.65)\n",
        "\n",
        "plt.close(fig)"
      ],
      "metadata": {
        "id": "nI-H5Gj4SL71"
      },
      "execution_count": 14,
      "outputs": []
    },
    {
      "cell_type": "markdown",
      "source": [
        "## **Figure**\n",
        "\n",
        "The following figure shows how the flux through the forward, backward, slip, futile cycles and their microscopic reverses varies as the properties of the molecular motor change. The flux through each of these cycles is also shown aggregated by their respective contributions to the mechanical and chemical flux."
      ],
      "metadata": {
        "id": "u3MZM6A0M8g0"
      }
    },
    {
      "cell_type": "code",
      "source": [
        "display(fig)\n",
        "display(box)\n",
        "update(box)"
      ],
      "metadata": {
        "id": "Qr9AJA4il_mL",
        "colab": {
          "base_uri": "https://localhost:8080/",
          "height": 850,
          "referenced_widgets": [
            "73b74a50d801402d8267ff23750c8eae",
            "364f57f60bb945d2b235c30bcc3a5984",
            "c42ae5b7f4ab4357b3065a1b5cef34fb",
            "56aeec3ef70641048fd501d9876a5126",
            "54c0b823a3fd43e5a1ee7aed6bb116e2",
            "75ab7af2215f4fcdbb5b81851d6a2b29",
            "3fa8827059ee4fe6b8ccfbbad4158d14",
            "0faf9bb96ea547ca85e88e102036901b",
            "e165f8a551fd4fa684e9e06300e74abf",
            "d1243ea2642a4255bc9226fd8ea77fd4",
            "9e5179dc1a5242a891e80a79e7cb116a",
            "b1a68327a3414c32b7158c3c195f5d72",
            "c4a5e0951e5a4b438c03cdb26cd2bbf1",
            "56f09f7a3d85445292fed99bdde6c129",
            "82ad1239f0534b949b127180a4208588",
            "0cd1c5f1d2304037b9021ac0a3423a08",
            "ba220ab585a44cc6896cb44c91165a20",
            "d21bd085eaa145f9a53c7a6f551c00ab",
            "efcbc5c826834704be9140fad1b3e356",
            "b995a5dafbd9469d9b98d708832a4f38",
            "7f8c959cb8a2468aa3f72fcdcc073616",
            "0c43d58c3b134a27836e13b789178121"
          ]
        },
        "outputId": "225261c4-c1fb-4105-d0ee-b2f82dab72e4"
      },
      "execution_count": 15,
      "outputs": [
        {
          "output_type": "display_data",
          "data": {
            "text/plain": [
              "<Figure size 600x400 with 1 Axes>"
            ],
            "image/svg+xml": "<?xml version=\"1.0\" encoding=\"utf-8\" standalone=\"no\"?>\n<!DOCTYPE svg PUBLIC \"-//W3C//DTD SVG 1.1//EN\"\n  \"http://www.w3.org/Graphics/SVG/1.1/DTD/svg11.dtd\">\n<svg xmlns:xlink=\"http://www.w3.org/1999/xlink\" width=\"473.076pt\" height=\"236.16pt\" viewBox=\"0 0 473.076 236.16\" xmlns=\"http://www.w3.org/2000/svg\" version=\"1.1\">\n <metadata>\n  <rdf:RDF xmlns:dc=\"http://purl.org/dc/elements/1.1/\" xmlns:cc=\"http://creativecommons.org/ns#\" xmlns:rdf=\"http://www.w3.org/1999/02/22-rdf-syntax-ns#\">\n   <cc:Work>\n    <dc:type rdf:resource=\"http://purl.org/dc/dcmitype/StillImage\"/>\n    <dc:date>2025-08-01T11:26:44.369025</dc:date>\n    <dc:format>image/svg+xml</dc:format>\n    <dc:creator>\n     <cc:Agent>\n      <dc:title>Matplotlib v3.10.0, https://matplotlib.org/</dc:title>\n     </cc:Agent>\n    </dc:creator>\n   </cc:Work>\n  </rdf:RDF>\n </metadata>\n <defs>\n  <style type=\"text/css\">*{stroke-linejoin: round; stroke-linecap: butt}</style>\n </defs>\n <g id=\"figure_1\">\n  <g id=\"patch_1\">\n   <path d=\"M 0 236.16 \nL 473.076 236.16 \nL 473.076 0 \nL 0 0 \nz\n\" style=\"fill: #ffffff\"/>\n  </g>\n  <g id=\"axes_1\">\n   <g id=\"table_1\">\n    <g id=\"patch_2\">\n     <path d=\"M 124.38 130.4 \nL 171.51984 130.4 \nL 171.51984 118.08 \nL 124.38 118.08 \nz\n\" style=\"fill: #ffffff; stroke: #000000; stroke-linejoin: miter\"/>\n    </g>\n    <g id=\"text_1\">\n     <!-- Symbol -->\n     <g transform=\"translate(133.04867 126.4475) scale(0.08 -0.08)\">\n      <defs>\n       <path id=\"DejaVuSans-53\" d=\"M 3425 4513 \nL 3425 3897 \nQ 3066 4069 2747 4153 \nQ 2428 4238 2131 4238 \nQ 1616 4238 1336 4038 \nQ 1056 3838 1056 3469 \nQ 1056 3159 1242 3001 \nQ 1428 2844 1947 2747 \nL 2328 2669 \nQ 3034 2534 3370 2195 \nQ 3706 1856 3706 1288 \nQ 3706 609 3251 259 \nQ 2797 -91 1919 -91 \nQ 1588 -91 1214 -16 \nQ 841 59 441 206 \nL 441 856 \nQ 825 641 1194 531 \nQ 1563 422 1919 422 \nQ 2459 422 2753 634 \nQ 3047 847 3047 1241 \nQ 3047 1584 2836 1778 \nQ 2625 1972 2144 2069 \nL 1759 2144 \nQ 1053 2284 737 2584 \nQ 422 2884 422 3419 \nQ 422 4038 858 4394 \nQ 1294 4750 2059 4750 \nQ 2388 4750 2728 4690 \nQ 3069 4631 3425 4513 \nz\n\" transform=\"scale(0.015625)\"/>\n       <path id=\"DejaVuSans-79\" d=\"M 2059 -325 \nQ 1816 -950 1584 -1140 \nQ 1353 -1331 966 -1331 \nL 506 -1331 \nL 506 -850 \nL 844 -850 \nQ 1081 -850 1212 -737 \nQ 1344 -625 1503 -206 \nL 1606 56 \nL 191 3500 \nL 800 3500 \nL 1894 763 \nL 2988 3500 \nL 3597 3500 \nL 2059 -325 \nz\n\" transform=\"scale(0.015625)\"/>\n       <path id=\"DejaVuSans-6d\" d=\"M 3328 2828 \nQ 3544 3216 3844 3400 \nQ 4144 3584 4550 3584 \nQ 5097 3584 5394 3201 \nQ 5691 2819 5691 2113 \nL 5691 0 \nL 5113 0 \nL 5113 2094 \nQ 5113 2597 4934 2840 \nQ 4756 3084 4391 3084 \nQ 3944 3084 3684 2787 \nQ 3425 2491 3425 1978 \nL 3425 0 \nL 2847 0 \nL 2847 2094 \nQ 2847 2600 2669 2842 \nQ 2491 3084 2119 3084 \nQ 1678 3084 1418 2786 \nQ 1159 2488 1159 1978 \nL 1159 0 \nL 581 0 \nL 581 3500 \nL 1159 3500 \nL 1159 2956 \nQ 1356 3278 1631 3431 \nQ 1906 3584 2284 3584 \nQ 2666 3584 2933 3390 \nQ 3200 3197 3328 2828 \nz\n\" transform=\"scale(0.015625)\"/>\n       <path id=\"DejaVuSans-62\" d=\"M 3116 1747 \nQ 3116 2381 2855 2742 \nQ 2594 3103 2138 3103 \nQ 1681 3103 1420 2742 \nQ 1159 2381 1159 1747 \nQ 1159 1113 1420 752 \nQ 1681 391 2138 391 \nQ 2594 391 2855 752 \nQ 3116 1113 3116 1747 \nz\nM 1159 2969 \nQ 1341 3281 1617 3432 \nQ 1894 3584 2278 3584 \nQ 2916 3584 3314 3078 \nQ 3713 2572 3713 1747 \nQ 3713 922 3314 415 \nQ 2916 -91 2278 -91 \nQ 1894 -91 1617 61 \nQ 1341 213 1159 525 \nL 1159 0 \nL 581 0 \nL 581 4863 \nL 1159 4863 \nL 1159 2969 \nz\n\" transform=\"scale(0.015625)\"/>\n       <path id=\"DejaVuSans-6f\" d=\"M 1959 3097 \nQ 1497 3097 1228 2736 \nQ 959 2375 959 1747 \nQ 959 1119 1226 758 \nQ 1494 397 1959 397 \nQ 2419 397 2687 759 \nQ 2956 1122 2956 1747 \nQ 2956 2369 2687 2733 \nQ 2419 3097 1959 3097 \nz\nM 1959 3584 \nQ 2709 3584 3137 3096 \nQ 3566 2609 3566 1747 \nQ 3566 888 3137 398 \nQ 2709 -91 1959 -91 \nQ 1206 -91 779 398 \nQ 353 888 353 1747 \nQ 353 2609 779 3096 \nQ 1206 3584 1959 3584 \nz\n\" transform=\"scale(0.015625)\"/>\n       <path id=\"DejaVuSans-6c\" d=\"M 603 4863 \nL 1178 4863 \nL 1178 0 \nL 603 0 \nL 603 4863 \nz\n\" transform=\"scale(0.015625)\"/>\n      </defs>\n      <use xlink:href=\"#DejaVuSans-53\"/>\n      <use xlink:href=\"#DejaVuSans-79\" transform=\"translate(63.476562 0)\"/>\n      <use xlink:href=\"#DejaVuSans-6d\" transform=\"translate(122.65625 0)\"/>\n      <use xlink:href=\"#DejaVuSans-62\" transform=\"translate(220.068359 0)\"/>\n      <use xlink:href=\"#DejaVuSans-6f\" transform=\"translate(283.544922 0)\"/>\n      <use xlink:href=\"#DejaVuSans-6c\" transform=\"translate(344.726562 0)\"/>\n     </g>\n    </g>\n    <g id=\"patch_3\">\n     <path d=\"M 171.51984 130.4 \nL 271.692 130.4 \nL 271.692 118.08 \nL 171.51984 118.08 \nz\n\" style=\"fill: #ffffff; stroke: #000000; stroke-linejoin: miter\"/>\n    </g>\n    <g id=\"text_2\">\n     <!-- Meaning -->\n     <g transform=\"translate(204.521545 126.4475) scale(0.08 -0.08)\">\n      <defs>\n       <path id=\"DejaVuSans-4d\" d=\"M 628 4666 \nL 1569 4666 \nL 2759 1491 \nL 3956 4666 \nL 4897 4666 \nL 4897 0 \nL 4281 0 \nL 4281 4097 \nL 3078 897 \nL 2444 897 \nL 1241 4097 \nL 1241 0 \nL 628 0 \nL 628 4666 \nz\n\" transform=\"scale(0.015625)\"/>\n       <path id=\"DejaVuSans-65\" d=\"M 3597 1894 \nL 3597 1613 \nL 953 1613 \nQ 991 1019 1311 708 \nQ 1631 397 2203 397 \nQ 2534 397 2845 478 \nQ 3156 559 3463 722 \nL 3463 178 \nQ 3153 47 2828 -22 \nQ 2503 -91 2169 -91 \nQ 1331 -91 842 396 \nQ 353 884 353 1716 \nQ 353 2575 817 3079 \nQ 1281 3584 2069 3584 \nQ 2775 3584 3186 3129 \nQ 3597 2675 3597 1894 \nz\nM 3022 2063 \nQ 3016 2534 2758 2815 \nQ 2500 3097 2075 3097 \nQ 1594 3097 1305 2825 \nQ 1016 2553 972 2059 \nL 3022 2063 \nz\n\" transform=\"scale(0.015625)\"/>\n       <path id=\"DejaVuSans-61\" d=\"M 2194 1759 \nQ 1497 1759 1228 1600 \nQ 959 1441 959 1056 \nQ 959 750 1161 570 \nQ 1363 391 1709 391 \nQ 2188 391 2477 730 \nQ 2766 1069 2766 1631 \nL 2766 1759 \nL 2194 1759 \nz\nM 3341 1997 \nL 3341 0 \nL 2766 0 \nL 2766 531 \nQ 2569 213 2275 61 \nQ 1981 -91 1556 -91 \nQ 1019 -91 701 211 \nQ 384 513 384 1019 \nQ 384 1609 779 1909 \nQ 1175 2209 1959 2209 \nL 2766 2209 \nL 2766 2266 \nQ 2766 2663 2505 2880 \nQ 2244 3097 1772 3097 \nQ 1472 3097 1187 3025 \nQ 903 2953 641 2809 \nL 641 3341 \nQ 956 3463 1253 3523 \nQ 1550 3584 1831 3584 \nQ 2591 3584 2966 3190 \nQ 3341 2797 3341 1997 \nz\n\" transform=\"scale(0.015625)\"/>\n       <path id=\"DejaVuSans-6e\" d=\"M 3513 2113 \nL 3513 0 \nL 2938 0 \nL 2938 2094 \nQ 2938 2591 2744 2837 \nQ 2550 3084 2163 3084 \nQ 1697 3084 1428 2787 \nQ 1159 2491 1159 1978 \nL 1159 0 \nL 581 0 \nL 581 3500 \nL 1159 3500 \nL 1159 2956 \nQ 1366 3272 1645 3428 \nQ 1925 3584 2291 3584 \nQ 2894 3584 3203 3211 \nQ 3513 2838 3513 2113 \nz\n\" transform=\"scale(0.015625)\"/>\n       <path id=\"DejaVuSans-69\" d=\"M 603 3500 \nL 1178 3500 \nL 1178 0 \nL 603 0 \nL 603 3500 \nz\nM 603 4863 \nL 1178 4863 \nL 1178 4134 \nL 603 4134 \nL 603 4863 \nz\n\" transform=\"scale(0.015625)\"/>\n       <path id=\"DejaVuSans-67\" d=\"M 2906 1791 \nQ 2906 2416 2648 2759 \nQ 2391 3103 1925 3103 \nQ 1463 3103 1205 2759 \nQ 947 2416 947 1791 \nQ 947 1169 1205 825 \nQ 1463 481 1925 481 \nQ 2391 481 2648 825 \nQ 2906 1169 2906 1791 \nz\nM 3481 434 \nQ 3481 -459 3084 -895 \nQ 2688 -1331 1869 -1331 \nQ 1566 -1331 1297 -1286 \nQ 1028 -1241 775 -1147 \nL 775 -588 \nQ 1028 -725 1275 -790 \nQ 1522 -856 1778 -856 \nQ 2344 -856 2625 -561 \nQ 2906 -266 2906 331 \nL 2906 616 \nQ 2728 306 2450 153 \nQ 2172 0 1784 0 \nQ 1141 0 747 490 \nQ 353 981 353 1791 \nQ 353 2603 747 3093 \nQ 1141 3584 1784 3584 \nQ 2172 3584 2450 3431 \nQ 2728 3278 2906 2969 \nL 2906 3500 \nL 3481 3500 \nL 3481 434 \nz\n\" transform=\"scale(0.015625)\"/>\n      </defs>\n      <use xlink:href=\"#DejaVuSans-4d\"/>\n      <use xlink:href=\"#DejaVuSans-65\" transform=\"translate(86.279297 0)\"/>\n      <use xlink:href=\"#DejaVuSans-61\" transform=\"translate(147.802734 0)\"/>\n      <use xlink:href=\"#DejaVuSans-6e\" transform=\"translate(209.082031 0)\"/>\n      <use xlink:href=\"#DejaVuSans-69\" transform=\"translate(272.460938 0)\"/>\n      <use xlink:href=\"#DejaVuSans-6e\" transform=\"translate(300.244141 0)\"/>\n      <use xlink:href=\"#DejaVuSans-67\" transform=\"translate(363.623047 0)\"/>\n     </g>\n    </g>\n    <g id=\"patch_4\">\n     <path d=\"M 124.38 142.72 \nL 171.51984 142.72 \nL 171.51984 130.4 \nL 124.38 130.4 \nz\n\" style=\"fill: #ffffff; stroke: #000000; stroke-linejoin: miter\"/>\n    </g>\n    <g id=\"text_3\">\n     <!-- F -->\n     <g transform=\"translate(145.649295 138.7675) scale(0.08 -0.08)\">\n      <defs>\n       <path id=\"DejaVuSans-46\" d=\"M 628 4666 \nL 3309 4666 \nL 3309 4134 \nL 1259 4134 \nL 1259 2759 \nL 3109 2759 \nL 3109 2228 \nL 1259 2228 \nL 1259 0 \nL 628 0 \nL 628 4666 \nz\n\" transform=\"scale(0.015625)\"/>\n      </defs>\n      <use xlink:href=\"#DejaVuSans-46\"/>\n     </g>\n    </g>\n    <g id=\"patch_5\">\n     <path d=\"M 171.51984 142.72 \nL 271.692 142.72 \nL 271.692 130.4 \nL 171.51984 130.4 \nz\n\" style=\"fill: #ffffff; stroke: #000000; stroke-linejoin: miter\"/>\n    </g>\n    <g id=\"text_4\">\n     <!-- Forward -->\n     <g transform=\"translate(205.52217 138.7675) scale(0.08 -0.08)\">\n      <defs>\n       <path id=\"DejaVuSans-72\" d=\"M 2631 2963 \nQ 2534 3019 2420 3045 \nQ 2306 3072 2169 3072 \nQ 1681 3072 1420 2755 \nQ 1159 2438 1159 1844 \nL 1159 0 \nL 581 0 \nL 581 3500 \nL 1159 3500 \nL 1159 2956 \nQ 1341 3275 1631 3429 \nQ 1922 3584 2338 3584 \nQ 2397 3584 2469 3576 \nQ 2541 3569 2628 3553 \nL 2631 2963 \nz\n\" transform=\"scale(0.015625)\"/>\n       <path id=\"DejaVuSans-77\" d=\"M 269 3500 \nL 844 3500 \nL 1563 769 \nL 2278 3500 \nL 2956 3500 \nL 3675 769 \nL 4391 3500 \nL 4966 3500 \nL 4050 0 \nL 3372 0 \nL 2619 2869 \nL 1863 0 \nL 1184 0 \nL 269 3500 \nz\n\" transform=\"scale(0.015625)\"/>\n       <path id=\"DejaVuSans-64\" d=\"M 2906 2969 \nL 2906 4863 \nL 3481 4863 \nL 3481 0 \nL 2906 0 \nL 2906 525 \nQ 2725 213 2448 61 \nQ 2172 -91 1784 -91 \nQ 1150 -91 751 415 \nQ 353 922 353 1747 \nQ 353 2572 751 3078 \nQ 1150 3584 1784 3584 \nQ 2172 3584 2448 3432 \nQ 2725 3281 2906 2969 \nz\nM 947 1747 \nQ 947 1113 1208 752 \nQ 1469 391 1925 391 \nQ 2381 391 2643 752 \nQ 2906 1113 2906 1747 \nQ 2906 2381 2643 2742 \nQ 2381 3103 1925 3103 \nQ 1469 3103 1208 2742 \nQ 947 2381 947 1747 \nz\n\" transform=\"scale(0.015625)\"/>\n      </defs>\n      <use xlink:href=\"#DejaVuSans-46\"/>\n      <use xlink:href=\"#DejaVuSans-6f\" transform=\"translate(53.894531 0)\"/>\n      <use xlink:href=\"#DejaVuSans-72\" transform=\"translate(115.076172 0)\"/>\n      <use xlink:href=\"#DejaVuSans-77\" transform=\"translate(156.189453 0)\"/>\n      <use xlink:href=\"#DejaVuSans-61\" transform=\"translate(237.976562 0)\"/>\n      <use xlink:href=\"#DejaVuSans-72\" transform=\"translate(299.255859 0)\"/>\n      <use xlink:href=\"#DejaVuSans-64\" transform=\"translate(338.619141 0)\"/>\n     </g>\n    </g>\n    <g id=\"patch_6\">\n     <path d=\"M 124.38 155.04 \nL 171.51984 155.04 \nL 171.51984 142.72 \nL 124.38 142.72 \nz\n\" style=\"fill: #ffffff; stroke: #000000; stroke-linejoin: miter\"/>\n    </g>\n    <g id=\"text_5\">\n     <!-- F⁺ -->\n     <g transform=\"translate(143.538045 151.0875) scale(0.08 -0.08)\">\n      <defs>\n       <path id=\"DejaVuSans-207a\" d=\"M 1853 4334 \nL 1853 3359 \nL 2950 3359 \nL 2950 3063 \nL 1853 3063 \nL 1853 2088 \nL 1525 2088 \nL 1525 3063 \nL 428 3063 \nL 428 3359 \nL 1525 3359 \nL 1525 4334 \nL 1853 4334 \nz\n\" transform=\"scale(0.015625)\"/>\n      </defs>\n      <use xlink:href=\"#DejaVuSans-46\"/>\n      <use xlink:href=\"#DejaVuSans-207a\" transform=\"translate(57.519531 0)\"/>\n     </g>\n    </g>\n    <g id=\"patch_7\">\n     <path d=\"M 171.51984 155.04 \nL 271.692 155.04 \nL 271.692 142.72 \nL 171.51984 142.72 \nz\n\" style=\"fill: #ffffff; stroke: #000000; stroke-linejoin: miter\"/>\n    </g>\n    <g id=\"text_6\">\n     <!-- Forward reverse -->\n     <g transform=\"translate(189.21717 151.0875) scale(0.08 -0.08)\">\n      <defs>\n       <path id=\"DejaVuSans-20\" transform=\"scale(0.015625)\"/>\n       <path id=\"DejaVuSans-76\" d=\"M 191 3500 \nL 800 3500 \nL 1894 563 \nL 2988 3500 \nL 3597 3500 \nL 2284 0 \nL 1503 0 \nL 191 3500 \nz\n\" transform=\"scale(0.015625)\"/>\n       <path id=\"DejaVuSans-73\" d=\"M 2834 3397 \nL 2834 2853 \nQ 2591 2978 2328 3040 \nQ 2066 3103 1784 3103 \nQ 1356 3103 1142 2972 \nQ 928 2841 928 2578 \nQ 928 2378 1081 2264 \nQ 1234 2150 1697 2047 \nL 1894 2003 \nQ 2506 1872 2764 1633 \nQ 3022 1394 3022 966 \nQ 3022 478 2636 193 \nQ 2250 -91 1575 -91 \nQ 1294 -91 989 -36 \nQ 684 19 347 128 \nL 347 722 \nQ 666 556 975 473 \nQ 1284 391 1588 391 \nQ 1994 391 2212 530 \nQ 2431 669 2431 922 \nQ 2431 1156 2273 1281 \nQ 2116 1406 1581 1522 \nL 1381 1569 \nQ 847 1681 609 1914 \nQ 372 2147 372 2553 \nQ 372 3047 722 3315 \nQ 1072 3584 1716 3584 \nQ 2034 3584 2315 3537 \nQ 2597 3491 2834 3397 \nz\n\" transform=\"scale(0.015625)\"/>\n      </defs>\n      <use xlink:href=\"#DejaVuSans-46\"/>\n      <use xlink:href=\"#DejaVuSans-6f\" transform=\"translate(53.894531 0)\"/>\n      <use xlink:href=\"#DejaVuSans-72\" transform=\"translate(115.076172 0)\"/>\n      <use xlink:href=\"#DejaVuSans-77\" transform=\"translate(156.189453 0)\"/>\n      <use xlink:href=\"#DejaVuSans-61\" transform=\"translate(237.976562 0)\"/>\n      <use xlink:href=\"#DejaVuSans-72\" transform=\"translate(299.255859 0)\"/>\n      <use xlink:href=\"#DejaVuSans-64\" transform=\"translate(338.619141 0)\"/>\n      <use xlink:href=\"#DejaVuSans-20\" transform=\"translate(402.095703 0)\"/>\n      <use xlink:href=\"#DejaVuSans-72\" transform=\"translate(433.882812 0)\"/>\n      <use xlink:href=\"#DejaVuSans-65\" transform=\"translate(472.746094 0)\"/>\n      <use xlink:href=\"#DejaVuSans-76\" transform=\"translate(534.269531 0)\"/>\n      <use xlink:href=\"#DejaVuSans-65\" transform=\"translate(593.449219 0)\"/>\n      <use xlink:href=\"#DejaVuSans-72\" transform=\"translate(654.972656 0)\"/>\n      <use xlink:href=\"#DejaVuSans-73\" transform=\"translate(696.085938 0)\"/>\n      <use xlink:href=\"#DejaVuSans-65\" transform=\"translate(748.185547 0)\"/>\n     </g>\n    </g>\n    <g id=\"patch_8\">\n     <path d=\"M 124.38 167.36 \nL 171.51984 167.36 \nL 171.51984 155.04 \nL 124.38 155.04 \nz\n\" style=\"fill: #ffffff; stroke: #000000; stroke-linejoin: miter\"/>\n    </g>\n    <g id=\"text_7\">\n     <!-- B -->\n     <g transform=\"translate(145.205545 163.4075) scale(0.08 -0.08)\">\n      <defs>\n       <path id=\"DejaVuSans-42\" d=\"M 1259 2228 \nL 1259 519 \nL 2272 519 \nQ 2781 519 3026 730 \nQ 3272 941 3272 1375 \nQ 3272 1813 3026 2020 \nQ 2781 2228 2272 2228 \nL 1259 2228 \nz\nM 1259 4147 \nL 1259 2741 \nL 2194 2741 \nQ 2656 2741 2882 2914 \nQ 3109 3088 3109 3444 \nQ 3109 3797 2882 3972 \nQ 2656 4147 2194 4147 \nL 1259 4147 \nz\nM 628 4666 \nL 2241 4666 \nQ 2963 4666 3353 4366 \nQ 3744 4066 3744 3513 \nQ 3744 3084 3544 2831 \nQ 3344 2578 2956 2516 \nQ 3422 2416 3680 2098 \nQ 3938 1781 3938 1306 \nQ 3938 681 3513 340 \nQ 3088 0 2303 0 \nL 628 0 \nL 628 4666 \nz\n\" transform=\"scale(0.015625)\"/>\n      </defs>\n      <use xlink:href=\"#DejaVuSans-42\"/>\n     </g>\n    </g>\n    <g id=\"patch_9\">\n     <path d=\"M 171.51984 167.36 \nL 271.692 167.36 \nL 271.692 155.04 \nL 171.51984 155.04 \nz\n\" style=\"fill: #ffffff; stroke: #000000; stroke-linejoin: miter\"/>\n    </g>\n    <g id=\"text_8\">\n     <!-- Backward -->\n     <g transform=\"translate(202.05842 163.4075) scale(0.08 -0.08)\">\n      <defs>\n       <path id=\"DejaVuSans-63\" d=\"M 3122 3366 \nL 3122 2828 \nQ 2878 2963 2633 3030 \nQ 2388 3097 2138 3097 \nQ 1578 3097 1268 2742 \nQ 959 2388 959 1747 \nQ 959 1106 1268 751 \nQ 1578 397 2138 397 \nQ 2388 397 2633 464 \nQ 2878 531 3122 666 \nL 3122 134 \nQ 2881 22 2623 -34 \nQ 2366 -91 2075 -91 \nQ 1284 -91 818 406 \nQ 353 903 353 1747 \nQ 353 2603 823 3093 \nQ 1294 3584 2113 3584 \nQ 2378 3584 2631 3529 \nQ 2884 3475 3122 3366 \nz\n\" transform=\"scale(0.015625)\"/>\n       <path id=\"DejaVuSans-6b\" d=\"M 581 4863 \nL 1159 4863 \nL 1159 1991 \nL 2875 3500 \nL 3609 3500 \nL 1753 1863 \nL 3688 0 \nL 2938 0 \nL 1159 1709 \nL 1159 0 \nL 581 0 \nL 581 4863 \nz\n\" transform=\"scale(0.015625)\"/>\n      </defs>\n      <use xlink:href=\"#DejaVuSans-42\"/>\n      <use xlink:href=\"#DejaVuSans-61\" transform=\"translate(68.603516 0)\"/>\n      <use xlink:href=\"#DejaVuSans-63\" transform=\"translate(129.882812 0)\"/>\n      <use xlink:href=\"#DejaVuSans-6b\" transform=\"translate(184.863281 0)\"/>\n      <use xlink:href=\"#DejaVuSans-77\" transform=\"translate(242.773438 0)\"/>\n      <use xlink:href=\"#DejaVuSans-61\" transform=\"translate(324.560547 0)\"/>\n      <use xlink:href=\"#DejaVuSans-72\" transform=\"translate(385.839844 0)\"/>\n      <use xlink:href=\"#DejaVuSans-64\" transform=\"translate(425.203125 0)\"/>\n     </g>\n    </g>\n    <g id=\"patch_10\">\n     <path d=\"M 124.38 179.68 \nL 171.51984 179.68 \nL 171.51984 167.36 \nL 124.38 167.36 \nz\n\" style=\"fill: #ffffff; stroke: #000000; stroke-linejoin: miter\"/>\n    </g>\n    <g id=\"text_9\">\n     <!-- B⁺ -->\n     <g transform=\"translate(143.094295 175.7275) scale(0.08 -0.08)\">\n      <use xlink:href=\"#DejaVuSans-42\"/>\n      <use xlink:href=\"#DejaVuSans-207a\" transform=\"translate(68.603516 0)\"/>\n     </g>\n    </g>\n    <g id=\"patch_11\">\n     <path d=\"M 171.51984 179.68 \nL 271.692 179.68 \nL 271.692 167.36 \nL 171.51984 167.36 \nz\n\" style=\"fill: #ffffff; stroke: #000000; stroke-linejoin: miter\"/>\n    </g>\n    <g id=\"text_10\">\n     <!-- Backward reverse -->\n     <g transform=\"translate(185.75342 175.7275) scale(0.08 -0.08)\">\n      <use xlink:href=\"#DejaVuSans-42\"/>\n      <use xlink:href=\"#DejaVuSans-61\" transform=\"translate(68.603516 0)\"/>\n      <use xlink:href=\"#DejaVuSans-63\" transform=\"translate(129.882812 0)\"/>\n      <use xlink:href=\"#DejaVuSans-6b\" transform=\"translate(184.863281 0)\"/>\n      <use xlink:href=\"#DejaVuSans-77\" transform=\"translate(242.773438 0)\"/>\n      <use xlink:href=\"#DejaVuSans-61\" transform=\"translate(324.560547 0)\"/>\n      <use xlink:href=\"#DejaVuSans-72\" transform=\"translate(385.839844 0)\"/>\n      <use xlink:href=\"#DejaVuSans-64\" transform=\"translate(425.203125 0)\"/>\n      <use xlink:href=\"#DejaVuSans-20\" transform=\"translate(488.679688 0)\"/>\n      <use xlink:href=\"#DejaVuSans-72\" transform=\"translate(520.466797 0)\"/>\n      <use xlink:href=\"#DejaVuSans-65\" transform=\"translate(559.330078 0)\"/>\n      <use xlink:href=\"#DejaVuSans-76\" transform=\"translate(620.853516 0)\"/>\n      <use xlink:href=\"#DejaVuSans-65\" transform=\"translate(680.033203 0)\"/>\n      <use xlink:href=\"#DejaVuSans-72\" transform=\"translate(741.556641 0)\"/>\n      <use xlink:href=\"#DejaVuSans-73\" transform=\"translate(782.669922 0)\"/>\n      <use xlink:href=\"#DejaVuSans-65\" transform=\"translate(834.769531 0)\"/>\n     </g>\n    </g>\n    <g id=\"patch_12\">\n     <path d=\"M 124.38 192 \nL 171.51984 192 \nL 171.51984 179.68 \nL 124.38 179.68 \nz\n\" style=\"fill: #ffffff; stroke: #000000; stroke-linejoin: miter\"/>\n    </g>\n    <g id=\"text_11\">\n     <!-- S -->\n     <g transform=\"translate(145.410545 188.0475) scale(0.08 -0.08)\">\n      <use xlink:href=\"#DejaVuSans-53\"/>\n     </g>\n    </g>\n    <g id=\"patch_13\">\n     <path d=\"M 171.51984 192 \nL 271.692 192 \nL 271.692 179.68 \nL 171.51984 179.68 \nz\n\" style=\"fill: #ffffff; stroke: #000000; stroke-linejoin: miter\"/>\n    </g>\n    <g id=\"text_12\">\n     <!-- Slip -->\n     <g transform=\"translate(214.30467 188.0475) scale(0.08 -0.08)\">\n      <defs>\n       <path id=\"DejaVuSans-70\" d=\"M 1159 525 \nL 1159 -1331 \nL 581 -1331 \nL 581 3500 \nL 1159 3500 \nL 1159 2969 \nQ 1341 3281 1617 3432 \nQ 1894 3584 2278 3584 \nQ 2916 3584 3314 3078 \nQ 3713 2572 3713 1747 \nQ 3713 922 3314 415 \nQ 2916 -91 2278 -91 \nQ 1894 -91 1617 61 \nQ 1341 213 1159 525 \nz\nM 3116 1747 \nQ 3116 2381 2855 2742 \nQ 2594 3103 2138 3103 \nQ 1681 3103 1420 2742 \nQ 1159 2381 1159 1747 \nQ 1159 1113 1420 752 \nQ 1681 391 2138 391 \nQ 2594 391 2855 752 \nQ 3116 1113 3116 1747 \nz\n\" transform=\"scale(0.015625)\"/>\n      </defs>\n      <use xlink:href=\"#DejaVuSans-53\"/>\n      <use xlink:href=\"#DejaVuSans-6c\" transform=\"translate(63.476562 0)\"/>\n      <use xlink:href=\"#DejaVuSans-69\" transform=\"translate(91.259766 0)\"/>\n      <use xlink:href=\"#DejaVuSans-70\" transform=\"translate(119.042969 0)\"/>\n     </g>\n    </g>\n    <g id=\"patch_14\">\n     <path d=\"M 124.38 204.32 \nL 171.51984 204.32 \nL 171.51984 192 \nL 124.38 192 \nz\n\" style=\"fill: #ffffff; stroke: #000000; stroke-linejoin: miter\"/>\n    </g>\n    <g id=\"text_13\">\n     <!-- S⁺ -->\n     <g transform=\"translate(143.299295 200.3675) scale(0.08 -0.08)\">\n      <use xlink:href=\"#DejaVuSans-53\"/>\n      <use xlink:href=\"#DejaVuSans-207a\" transform=\"translate(63.476562 0)\"/>\n     </g>\n    </g>\n    <g id=\"patch_15\">\n     <path d=\"M 171.51984 204.32 \nL 271.692 204.32 \nL 271.692 192 \nL 171.51984 192 \nz\n\" style=\"fill: #ffffff; stroke: #000000; stroke-linejoin: miter\"/>\n    </g>\n    <g id=\"text_14\">\n     <!-- Slip reverse -->\n     <g transform=\"translate(197.99967 200.3675) scale(0.08 -0.08)\">\n      <use xlink:href=\"#DejaVuSans-53\"/>\n      <use xlink:href=\"#DejaVuSans-6c\" transform=\"translate(63.476562 0)\"/>\n      <use xlink:href=\"#DejaVuSans-69\" transform=\"translate(91.259766 0)\"/>\n      <use xlink:href=\"#DejaVuSans-70\" transform=\"translate(119.042969 0)\"/>\n      <use xlink:href=\"#DejaVuSans-20\" transform=\"translate(182.519531 0)\"/>\n      <use xlink:href=\"#DejaVuSans-72\" transform=\"translate(214.306641 0)\"/>\n      <use xlink:href=\"#DejaVuSans-65\" transform=\"translate(253.169922 0)\"/>\n      <use xlink:href=\"#DejaVuSans-76\" transform=\"translate(314.693359 0)\"/>\n      <use xlink:href=\"#DejaVuSans-65\" transform=\"translate(373.873047 0)\"/>\n      <use xlink:href=\"#DejaVuSans-72\" transform=\"translate(435.396484 0)\"/>\n      <use xlink:href=\"#DejaVuSans-73\" transform=\"translate(476.509766 0)\"/>\n      <use xlink:href=\"#DejaVuSans-65\" transform=\"translate(528.609375 0)\"/>\n     </g>\n    </g>\n    <g id=\"patch_16\">\n     <path d=\"M 124.38 216.64 \nL 171.51984 216.64 \nL 171.51984 204.32 \nL 124.38 204.32 \nz\n\" style=\"fill: #ffffff; stroke: #000000; stroke-linejoin: miter\"/>\n    </g>\n    <g id=\"text_15\">\n     <!-- C -->\n     <g transform=\"translate(145.156795 212.6875) scale(0.08 -0.08)\">\n      <defs>\n       <path id=\"DejaVuSans-43\" d=\"M 4122 4306 \nL 4122 3641 \nQ 3803 3938 3442 4084 \nQ 3081 4231 2675 4231 \nQ 1875 4231 1450 3742 \nQ 1025 3253 1025 2328 \nQ 1025 1406 1450 917 \nQ 1875 428 2675 428 \nQ 3081 428 3442 575 \nQ 3803 722 4122 1019 \nL 4122 359 \nQ 3791 134 3420 21 \nQ 3050 -91 2638 -91 \nQ 1578 -91 968 557 \nQ 359 1206 359 2328 \nQ 359 3453 968 4101 \nQ 1578 4750 2638 4750 \nQ 3056 4750 3426 4639 \nQ 3797 4528 4122 4306 \nz\n\" transform=\"scale(0.015625)\"/>\n      </defs>\n      <use xlink:href=\"#DejaVuSans-43\"/>\n     </g>\n    </g>\n    <g id=\"patch_17\">\n     <path d=\"M 171.51984 216.64 \nL 271.692 216.64 \nL 271.692 204.32 \nL 171.51984 204.32 \nz\n\" style=\"fill: #ffffff; stroke: #000000; stroke-linejoin: miter\"/>\n    </g>\n    <g id=\"text_16\">\n     <!-- Futile cycling -->\n     <g transform=\"translate(195.404045 212.6875) scale(0.08 -0.08)\">\n      <defs>\n       <path id=\"DejaVuSans-75\" d=\"M 544 1381 \nL 544 3500 \nL 1119 3500 \nL 1119 1403 \nQ 1119 906 1312 657 \nQ 1506 409 1894 409 \nQ 2359 409 2629 706 \nQ 2900 1003 2900 1516 \nL 2900 3500 \nL 3475 3500 \nL 3475 0 \nL 2900 0 \nL 2900 538 \nQ 2691 219 2414 64 \nQ 2138 -91 1772 -91 \nQ 1169 -91 856 284 \nQ 544 659 544 1381 \nz\nM 1991 3584 \nL 1991 3584 \nz\n\" transform=\"scale(0.015625)\"/>\n       <path id=\"DejaVuSans-74\" d=\"M 1172 4494 \nL 1172 3500 \nL 2356 3500 \nL 2356 3053 \nL 1172 3053 \nL 1172 1153 \nQ 1172 725 1289 603 \nQ 1406 481 1766 481 \nL 2356 481 \nL 2356 0 \nL 1766 0 \nQ 1100 0 847 248 \nQ 594 497 594 1153 \nL 594 3053 \nL 172 3053 \nL 172 3500 \nL 594 3500 \nL 594 4494 \nL 1172 4494 \nz\n\" transform=\"scale(0.015625)\"/>\n      </defs>\n      <use xlink:href=\"#DejaVuSans-46\"/>\n      <use xlink:href=\"#DejaVuSans-75\" transform=\"translate(52.019531 0)\"/>\n      <use xlink:href=\"#DejaVuSans-74\" transform=\"translate(115.398438 0)\"/>\n      <use xlink:href=\"#DejaVuSans-69\" transform=\"translate(154.607422 0)\"/>\n      <use xlink:href=\"#DejaVuSans-6c\" transform=\"translate(182.390625 0)\"/>\n      <use xlink:href=\"#DejaVuSans-65\" transform=\"translate(210.173828 0)\"/>\n      <use xlink:href=\"#DejaVuSans-20\" transform=\"translate(271.697266 0)\"/>\n      <use xlink:href=\"#DejaVuSans-63\" transform=\"translate(303.484375 0)\"/>\n      <use xlink:href=\"#DejaVuSans-79\" transform=\"translate(358.464844 0)\"/>\n      <use xlink:href=\"#DejaVuSans-63\" transform=\"translate(417.644531 0)\"/>\n      <use xlink:href=\"#DejaVuSans-6c\" transform=\"translate(472.625 0)\"/>\n      <use xlink:href=\"#DejaVuSans-69\" transform=\"translate(500.408203 0)\"/>\n      <use xlink:href=\"#DejaVuSans-6e\" transform=\"translate(528.191406 0)\"/>\n      <use xlink:href=\"#DejaVuSans-67\" transform=\"translate(591.570312 0)\"/>\n     </g>\n    </g>\n    <g id=\"patch_18\">\n     <path d=\"M 124.38 228.96 \nL 171.51984 228.96 \nL 171.51984 216.64 \nL 124.38 216.64 \nz\n\" style=\"fill: #ffffff; stroke: #000000; stroke-linejoin: miter\"/>\n    </g>\n    <g id=\"text_17\">\n     <!-- C⁺ -->\n     <g transform=\"translate(143.045545 225.0075) scale(0.08 -0.08)\">\n      <use xlink:href=\"#DejaVuSans-43\"/>\n      <use xlink:href=\"#DejaVuSans-207a\" transform=\"translate(69.824219 0)\"/>\n     </g>\n    </g>\n    <g id=\"patch_19\">\n     <path d=\"M 171.51984 228.96 \nL 271.692 228.96 \nL 271.692 216.64 \nL 171.51984 216.64 \nz\n\" style=\"fill: #ffffff; stroke: #000000; stroke-linejoin: miter\"/>\n    </g>\n    <g id=\"text_18\">\n     <!-- Reverse futile cycling -->\n     <g transform=\"translate(178.726545 225.0075) scale(0.08 -0.08)\">\n      <defs>\n       <path id=\"DejaVuSans-52\" d=\"M 2841 2188 \nQ 3044 2119 3236 1894 \nQ 3428 1669 3622 1275 \nL 4263 0 \nL 3584 0 \nL 2988 1197 \nQ 2756 1666 2539 1819 \nQ 2322 1972 1947 1972 \nL 1259 1972 \nL 1259 0 \nL 628 0 \nL 628 4666 \nL 2053 4666 \nQ 2853 4666 3247 4331 \nQ 3641 3997 3641 3322 \nQ 3641 2881 3436 2590 \nQ 3231 2300 2841 2188 \nz\nM 1259 4147 \nL 1259 2491 \nL 2053 2491 \nQ 2509 2491 2742 2702 \nQ 2975 2913 2975 3322 \nQ 2975 3731 2742 3939 \nQ 2509 4147 2053 4147 \nL 1259 4147 \nz\n\" transform=\"scale(0.015625)\"/>\n       <path id=\"DejaVuSans-66\" d=\"M 2375 4863 \nL 2375 4384 \nL 1825 4384 \nQ 1516 4384 1395 4259 \nQ 1275 4134 1275 3809 \nL 1275 3500 \nL 2222 3500 \nL 2222 3053 \nL 1275 3053 \nL 1275 0 \nL 697 0 \nL 697 3053 \nL 147 3053 \nL 147 3500 \nL 697 3500 \nL 697 3744 \nQ 697 4328 969 4595 \nQ 1241 4863 1831 4863 \nL 2375 4863 \nz\n\" transform=\"scale(0.015625)\"/>\n      </defs>\n      <use xlink:href=\"#DejaVuSans-52\"/>\n      <use xlink:href=\"#DejaVuSans-65\" transform=\"translate(64.982422 0)\"/>\n      <use xlink:href=\"#DejaVuSans-76\" transform=\"translate(126.505859 0)\"/>\n      <use xlink:href=\"#DejaVuSans-65\" transform=\"translate(185.685547 0)\"/>\n      <use xlink:href=\"#DejaVuSans-72\" transform=\"translate(247.208984 0)\"/>\n      <use xlink:href=\"#DejaVuSans-73\" transform=\"translate(288.322266 0)\"/>\n      <use xlink:href=\"#DejaVuSans-65\" transform=\"translate(340.421875 0)\"/>\n      <use xlink:href=\"#DejaVuSans-20\" transform=\"translate(401.945312 0)\"/>\n      <use xlink:href=\"#DejaVuSans-66\" transform=\"translate(433.732422 0)\"/>\n      <use xlink:href=\"#DejaVuSans-75\" transform=\"translate(468.9375 0)\"/>\n      <use xlink:href=\"#DejaVuSans-74\" transform=\"translate(532.316406 0)\"/>\n      <use xlink:href=\"#DejaVuSans-69\" transform=\"translate(571.525391 0)\"/>\n      <use xlink:href=\"#DejaVuSans-6c\" transform=\"translate(599.308594 0)\"/>\n      <use xlink:href=\"#DejaVuSans-65\" transform=\"translate(627.091797 0)\"/>\n      <use xlink:href=\"#DejaVuSans-20\" transform=\"translate(688.615234 0)\"/>\n      <use xlink:href=\"#DejaVuSans-63\" transform=\"translate(720.402344 0)\"/>\n      <use xlink:href=\"#DejaVuSans-79\" transform=\"translate(775.382812 0)\"/>\n      <use xlink:href=\"#DejaVuSans-63\" transform=\"translate(834.5625 0)\"/>\n      <use xlink:href=\"#DejaVuSans-6c\" transform=\"translate(889.542969 0)\"/>\n      <use xlink:href=\"#DejaVuSans-69\" transform=\"translate(917.326172 0)\"/>\n      <use xlink:href=\"#DejaVuSans-6e\" transform=\"translate(945.109375 0)\"/>\n      <use xlink:href=\"#DejaVuSans-67\" transform=\"translate(1008.488281 0)\"/>\n     </g>\n    </g>\n   </g>\n   <g id=\"table_2\">\n    <g id=\"patch_20\">\n     <path d=\"M 298.476 155.04 \nL 333.718105 155.04 \nL 333.718105 140.256 \nL 298.476 140.256 \nz\n\" style=\"fill: #ffffff; stroke: #000000; stroke-linejoin: miter\"/>\n    </g>\n    <g id=\"text_19\">\n     <!-- Symbol -->\n     <g transform=\"translate(301.195803 149.8555) scale(0.08 -0.08)\">\n      <use xlink:href=\"#DejaVuSans-53\"/>\n      <use xlink:href=\"#DejaVuSans-79\" transform=\"translate(63.476562 0)\"/>\n      <use xlink:href=\"#DejaVuSans-6d\" transform=\"translate(122.65625 0)\"/>\n      <use xlink:href=\"#DejaVuSans-62\" transform=\"translate(220.068359 0)\"/>\n      <use xlink:href=\"#DejaVuSans-6f\" transform=\"translate(283.544922 0)\"/>\n      <use xlink:href=\"#DejaVuSans-6c\" transform=\"translate(344.726562 0)\"/>\n     </g>\n    </g>\n    <g id=\"patch_21\">\n     <path d=\"M 333.718105 155.04 \nL 465.876 155.04 \nL 465.876 140.256 \nL 333.718105 140.256 \nz\n\" style=\"fill: #ffffff; stroke: #000000; stroke-linejoin: miter\"/>\n    </g>\n    <g id=\"text_20\">\n     <!-- Meaning -->\n     <g transform=\"translate(382.712678 149.8555) scale(0.08 -0.08)\">\n      <use xlink:href=\"#DejaVuSans-4d\"/>\n      <use xlink:href=\"#DejaVuSans-65\" transform=\"translate(86.279297 0)\"/>\n      <use xlink:href=\"#DejaVuSans-61\" transform=\"translate(147.802734 0)\"/>\n      <use xlink:href=\"#DejaVuSans-6e\" transform=\"translate(209.082031 0)\"/>\n      <use xlink:href=\"#DejaVuSans-69\" transform=\"translate(272.460938 0)\"/>\n      <use xlink:href=\"#DejaVuSans-6e\" transform=\"translate(300.244141 0)\"/>\n      <use xlink:href=\"#DejaVuSans-67\" transform=\"translate(363.623047 0)\"/>\n     </g>\n    </g>\n    <g id=\"patch_22\">\n     <path d=\"M 298.476 169.824 \nL 333.718105 169.824 \nL 333.718105 155.04 \nL 298.476 155.04 \nz\n\" style=\"fill: #ffffff; stroke: #000000; stroke-linejoin: miter\"/>\n    </g>\n    <g id=\"text_21\">\n     <!-- μ -->\n     <g transform=\"translate(313.552053 164.6395) scale(0.08 -0.08)\">\n      <defs>\n       <path id=\"DejaVuSans-3bc\" d=\"M 544 -1331 \nL 544 3500 \nL 1119 3500 \nL 1119 1325 \nQ 1119 872 1334 640 \nQ 1550 409 1972 409 \nQ 2434 409 2667 671 \nQ 2900 934 2900 1459 \nL 2900 3500 \nL 3475 3500 \nL 3475 806 \nQ 3475 619 3529 530 \nQ 3584 441 3700 441 \nQ 3728 441 3778 458 \nQ 3828 475 3916 513 \nL 3916 50 \nQ 3788 -22 3673 -56 \nQ 3559 -91 3450 -91 \nQ 3234 -91 3106 31 \nQ 2978 153 2931 403 \nQ 2775 156 2548 32 \nQ 2322 -91 2016 -91 \nQ 1697 -91 1473 31 \nQ 1250 153 1119 397 \nL 1119 -1331 \nL 544 -1331 \nz\n\" transform=\"scale(0.015625)\"/>\n      </defs>\n      <use xlink:href=\"#DejaVuSans-3bc\"/>\n     </g>\n    </g>\n    <g id=\"patch_23\">\n     <path d=\"M 333.718105 169.824 \nL 465.876 169.824 \nL 465.876 155.04 \nL 333.718105 155.04 \nz\n\" style=\"fill: #ffffff; stroke: #000000; stroke-linejoin: miter\"/>\n    </g>\n    <g id=\"text_22\">\n     <!-- Driving chemical potential -->\n     <g transform=\"translate(347.107678 164.6395) scale(0.08 -0.08)\">\n      <defs>\n       <path id=\"DejaVuSans-44\" d=\"M 1259 4147 \nL 1259 519 \nL 2022 519 \nQ 2988 519 3436 956 \nQ 3884 1394 3884 2338 \nQ 3884 3275 3436 3711 \nQ 2988 4147 2022 4147 \nL 1259 4147 \nz\nM 628 4666 \nL 1925 4666 \nQ 3281 4666 3915 4102 \nQ 4550 3538 4550 2338 \nQ 4550 1131 3912 565 \nQ 3275 0 1925 0 \nL 628 0 \nL 628 4666 \nz\n\" transform=\"scale(0.015625)\"/>\n       <path id=\"DejaVuSans-68\" d=\"M 3513 2113 \nL 3513 0 \nL 2938 0 \nL 2938 2094 \nQ 2938 2591 2744 2837 \nQ 2550 3084 2163 3084 \nQ 1697 3084 1428 2787 \nQ 1159 2491 1159 1978 \nL 1159 0 \nL 581 0 \nL 581 4863 \nL 1159 4863 \nL 1159 2956 \nQ 1366 3272 1645 3428 \nQ 1925 3584 2291 3584 \nQ 2894 3584 3203 3211 \nQ 3513 2838 3513 2113 \nz\n\" transform=\"scale(0.015625)\"/>\n      </defs>\n      <use xlink:href=\"#DejaVuSans-44\"/>\n      <use xlink:href=\"#DejaVuSans-72\" transform=\"translate(77.001953 0)\"/>\n      <use xlink:href=\"#DejaVuSans-69\" transform=\"translate(118.115234 0)\"/>\n      <use xlink:href=\"#DejaVuSans-76\" transform=\"translate(145.898438 0)\"/>\n      <use xlink:href=\"#DejaVuSans-69\" transform=\"translate(205.078125 0)\"/>\n      <use xlink:href=\"#DejaVuSans-6e\" transform=\"translate(232.861328 0)\"/>\n      <use xlink:href=\"#DejaVuSans-67\" transform=\"translate(296.240234 0)\"/>\n      <use xlink:href=\"#DejaVuSans-20\" transform=\"translate(359.716797 0)\"/>\n      <use xlink:href=\"#DejaVuSans-63\" transform=\"translate(391.503906 0)\"/>\n      <use xlink:href=\"#DejaVuSans-68\" transform=\"translate(446.484375 0)\"/>\n      <use xlink:href=\"#DejaVuSans-65\" transform=\"translate(509.863281 0)\"/>\n      <use xlink:href=\"#DejaVuSans-6d\" transform=\"translate(571.386719 0)\"/>\n      <use xlink:href=\"#DejaVuSans-69\" transform=\"translate(668.798828 0)\"/>\n      <use xlink:href=\"#DejaVuSans-63\" transform=\"translate(696.582031 0)\"/>\n      <use xlink:href=\"#DejaVuSans-61\" transform=\"translate(751.5625 0)\"/>\n      <use xlink:href=\"#DejaVuSans-6c\" transform=\"translate(812.841797 0)\"/>\n      <use xlink:href=\"#DejaVuSans-20\" transform=\"translate(840.625 0)\"/>\n      <use xlink:href=\"#DejaVuSans-70\" transform=\"translate(872.412109 0)\"/>\n      <use xlink:href=\"#DejaVuSans-6f\" transform=\"translate(935.888672 0)\"/>\n      <use xlink:href=\"#DejaVuSans-74\" transform=\"translate(997.070312 0)\"/>\n      <use xlink:href=\"#DejaVuSans-65\" transform=\"translate(1036.279297 0)\"/>\n      <use xlink:href=\"#DejaVuSans-6e\" transform=\"translate(1097.802734 0)\"/>\n      <use xlink:href=\"#DejaVuSans-74\" transform=\"translate(1161.181641 0)\"/>\n      <use xlink:href=\"#DejaVuSans-69\" transform=\"translate(1200.390625 0)\"/>\n      <use xlink:href=\"#DejaVuSans-61\" transform=\"translate(1228.173828 0)\"/>\n      <use xlink:href=\"#DejaVuSans-6c\" transform=\"translate(1289.453125 0)\"/>\n     </g>\n    </g>\n    <g id=\"patch_24\">\n     <path d=\"M 298.476 184.608 \nL 333.718105 184.608 \nL 333.718105 169.824 \nL 298.476 169.824 \nz\n\" style=\"fill: #ffffff; stroke: #000000; stroke-linejoin: miter\"/>\n    </g>\n    <g id=\"text_23\">\n     <!-- W -->\n     <g transform=\"translate(312.142053 179.4235) scale(0.08 -0.08)\">\n      <defs>\n       <path id=\"DejaVuSans-57\" d=\"M 213 4666 \nL 850 4666 \nL 1831 722 \nL 2809 4666 \nL 3519 4666 \nL 4500 722 \nL 5478 4666 \nL 6119 4666 \nL 4947 0 \nL 4153 0 \nL 3169 4050 \nL 2175 0 \nL 1381 0 \nL 213 4666 \nz\n\" transform=\"scale(0.015625)\"/>\n      </defs>\n      <use xlink:href=\"#DejaVuSans-57\"/>\n     </g>\n    </g>\n    <g id=\"patch_25\">\n     <path d=\"M 333.718105 184.608 \nL 465.876 184.608 \nL 465.876 169.824 \nL 333.718105 169.824 \nz\n\" style=\"fill: #ffffff; stroke: #000000; stroke-linejoin: miter\"/>\n    </g>\n    <g id=\"text_24\">\n     <!-- Work per cycle -->\n     <g transform=\"translate(370.142678 179.4235) scale(0.08 -0.08)\">\n      <use xlink:href=\"#DejaVuSans-57\"/>\n      <use xlink:href=\"#DejaVuSans-6f\" transform=\"translate(93.001953 0)\"/>\n      <use xlink:href=\"#DejaVuSans-72\" transform=\"translate(154.183594 0)\"/>\n      <use xlink:href=\"#DejaVuSans-6b\" transform=\"translate(195.296875 0)\"/>\n      <use xlink:href=\"#DejaVuSans-20\" transform=\"translate(253.207031 0)\"/>\n      <use xlink:href=\"#DejaVuSans-70\" transform=\"translate(284.994141 0)\"/>\n      <use xlink:href=\"#DejaVuSans-65\" transform=\"translate(348.470703 0)\"/>\n      <use xlink:href=\"#DejaVuSans-72\" transform=\"translate(409.994141 0)\"/>\n      <use xlink:href=\"#DejaVuSans-20\" transform=\"translate(451.107422 0)\"/>\n      <use xlink:href=\"#DejaVuSans-63\" transform=\"translate(482.894531 0)\"/>\n      <use xlink:href=\"#DejaVuSans-79\" transform=\"translate(537.875 0)\"/>\n      <use xlink:href=\"#DejaVuSans-63\" transform=\"translate(597.054688 0)\"/>\n      <use xlink:href=\"#DejaVuSans-6c\" transform=\"translate(652.035156 0)\"/>\n      <use xlink:href=\"#DejaVuSans-65\" transform=\"translate(679.818359 0)\"/>\n     </g>\n    </g>\n    <g id=\"patch_26\">\n     <path d=\"M 298.476 199.392 \nL 333.718105 199.392 \nL 333.718105 184.608 \nL 298.476 184.608 \nz\n\" style=\"fill: #ffffff; stroke: #000000; stroke-linejoin: miter\"/>\n    </g>\n    <g id=\"text_25\">\n     <!-- ln q -->\n     <g transform=\"translate(308.640178 194.2075) scale(0.08 -0.08)\">\n      <defs>\n       <path id=\"DejaVuSans-71\" d=\"M 947 1747 \nQ 947 1113 1208 752 \nQ 1469 391 1925 391 \nQ 2381 391 2643 752 \nQ 2906 1113 2906 1747 \nQ 2906 2381 2643 2742 \nQ 2381 3103 1925 3103 \nQ 1469 3103 1208 2742 \nQ 947 2381 947 1747 \nz\nM 2906 525 \nQ 2725 213 2448 61 \nQ 2172 -91 1784 -91 \nQ 1150 -91 751 415 \nQ 353 922 353 1747 \nQ 353 2572 751 3078 \nQ 1150 3584 1784 3584 \nQ 2172 3584 2448 3432 \nQ 2725 3281 2906 2969 \nL 2906 3500 \nL 3481 3500 \nL 3481 -1331 \nL 2906 -1331 \nL 2906 525 \nz\n\" transform=\"scale(0.015625)\"/>\n      </defs>\n      <use xlink:href=\"#DejaVuSans-6c\"/>\n      <use xlink:href=\"#DejaVuSans-6e\" transform=\"translate(27.783203 0)\"/>\n      <use xlink:href=\"#DejaVuSans-20\" transform=\"translate(91.162109 0)\"/>\n      <use xlink:href=\"#DejaVuSans-71\" transform=\"translate(122.949219 0)\"/>\n     </g>\n    </g>\n    <g id=\"patch_27\">\n     <path d=\"M 333.718105 199.392 \nL 465.876 199.392 \nL 465.876 184.608 \nL 333.718105 184.608 \nz\n\" style=\"fill: #ffffff; stroke: #000000; stroke-linejoin: miter\"/>\n    </g>\n    <g id=\"text_26\">\n     <!-- Kinetic asymmetry -->\n     <g transform=\"translate(362.180178 194.2075) scale(0.08 -0.08)\">\n      <defs>\n       <path id=\"DejaVuSans-4b\" d=\"M 628 4666 \nL 1259 4666 \nL 1259 2694 \nL 3353 4666 \nL 4166 4666 \nL 1850 2491 \nL 4331 0 \nL 3500 0 \nL 1259 2247 \nL 1259 0 \nL 628 0 \nL 628 4666 \nz\n\" transform=\"scale(0.015625)\"/>\n      </defs>\n      <use xlink:href=\"#DejaVuSans-4b\"/>\n      <use xlink:href=\"#DejaVuSans-69\" transform=\"translate(65.576172 0)\"/>\n      <use xlink:href=\"#DejaVuSans-6e\" transform=\"translate(93.359375 0)\"/>\n      <use xlink:href=\"#DejaVuSans-65\" transform=\"translate(156.738281 0)\"/>\n      <use xlink:href=\"#DejaVuSans-74\" transform=\"translate(218.261719 0)\"/>\n      <use xlink:href=\"#DejaVuSans-69\" transform=\"translate(257.470703 0)\"/>\n      <use xlink:href=\"#DejaVuSans-63\" transform=\"translate(285.253906 0)\"/>\n      <use xlink:href=\"#DejaVuSans-20\" transform=\"translate(340.234375 0)\"/>\n      <use xlink:href=\"#DejaVuSans-61\" transform=\"translate(372.021484 0)\"/>\n      <use xlink:href=\"#DejaVuSans-73\" transform=\"translate(433.300781 0)\"/>\n      <use xlink:href=\"#DejaVuSans-79\" transform=\"translate(485.400391 0)\"/>\n      <use xlink:href=\"#DejaVuSans-6d\" transform=\"translate(544.580078 0)\"/>\n      <use xlink:href=\"#DejaVuSans-6d\" transform=\"translate(641.992188 0)\"/>\n      <use xlink:href=\"#DejaVuSans-65\" transform=\"translate(739.404297 0)\"/>\n      <use xlink:href=\"#DejaVuSans-74\" transform=\"translate(800.927734 0)\"/>\n      <use xlink:href=\"#DejaVuSans-72\" transform=\"translate(840.136719 0)\"/>\n      <use xlink:href=\"#DejaVuSans-79\" transform=\"translate(881.25 0)\"/>\n     </g>\n    </g>\n    <g id=\"patch_28\">\n     <path d=\"M 298.476 214.176 \nL 333.718105 214.176 \nL 333.718105 199.392 \nL 298.476 199.392 \nz\n\" style=\"fill: #ffffff; stroke: #000000; stroke-linejoin: miter\"/>\n    </g>\n    <g id=\"text_27\">\n     <!-- Λ -->\n     <g transform=\"translate(313.360803 208.9915) scale(0.08 -0.08)\">\n      <defs>\n       <path id=\"DejaVuSans-39b\" d=\"M 716 0 \nL 50 0 \nL 1831 4666 \nL 2547 4666 \nL 4325 0 \nL 3669 0 \nL 2188 4044 \nL 716 0 \nz\n\" transform=\"scale(0.015625)\"/>\n      </defs>\n      <use xlink:href=\"#DejaVuSans-39b\"/>\n     </g>\n    </g>\n    <g id=\"patch_29\">\n     <path d=\"M 333.718105 214.176 \nL 465.876 214.176 \nL 465.876 199.392 \nL 333.718105 199.392 \nz\n\" style=\"fill: #ffffff; stroke: #000000; stroke-linejoin: miter\"/>\n    </g>\n    <g id=\"text_28\">\n     <!-- Futile-cycle propensity -->\n     <g transform=\"translate(354.668928 208.9915) scale(0.08 -0.08)\">\n      <defs>\n       <path id=\"DejaVuSans-2d\" d=\"M 313 2009 \nL 1997 2009 \nL 1997 1497 \nL 313 1497 \nL 313 2009 \nz\n\" transform=\"scale(0.015625)\"/>\n      </defs>\n      <use xlink:href=\"#DejaVuSans-46\"/>\n      <use xlink:href=\"#DejaVuSans-75\" transform=\"translate(52.019531 0)\"/>\n      <use xlink:href=\"#DejaVuSans-74\" transform=\"translate(115.398438 0)\"/>\n      <use xlink:href=\"#DejaVuSans-69\" transform=\"translate(154.607422 0)\"/>\n      <use xlink:href=\"#DejaVuSans-6c\" transform=\"translate(182.390625 0)\"/>\n      <use xlink:href=\"#DejaVuSans-65\" transform=\"translate(210.173828 0)\"/>\n      <use xlink:href=\"#DejaVuSans-2d\" transform=\"translate(271.697266 0)\"/>\n      <use xlink:href=\"#DejaVuSans-63\" transform=\"translate(307.78125 0)\"/>\n      <use xlink:href=\"#DejaVuSans-79\" transform=\"translate(362.761719 0)\"/>\n      <use xlink:href=\"#DejaVuSans-63\" transform=\"translate(421.941406 0)\"/>\n      <use xlink:href=\"#DejaVuSans-6c\" transform=\"translate(476.921875 0)\"/>\n      <use xlink:href=\"#DejaVuSans-65\" transform=\"translate(504.705078 0)\"/>\n      <use xlink:href=\"#DejaVuSans-20\" transform=\"translate(566.228516 0)\"/>\n      <use xlink:href=\"#DejaVuSans-70\" transform=\"translate(598.015625 0)\"/>\n      <use xlink:href=\"#DejaVuSans-72\" transform=\"translate(661.492188 0)\"/>\n      <use xlink:href=\"#DejaVuSans-6f\" transform=\"translate(700.355469 0)\"/>\n      <use xlink:href=\"#DejaVuSans-70\" transform=\"translate(761.537109 0)\"/>\n      <use xlink:href=\"#DejaVuSans-65\" transform=\"translate(825.013672 0)\"/>\n      <use xlink:href=\"#DejaVuSans-6e\" transform=\"translate(886.537109 0)\"/>\n      <use xlink:href=\"#DejaVuSans-73\" transform=\"translate(949.916016 0)\"/>\n      <use xlink:href=\"#DejaVuSans-69\" transform=\"translate(1002.015625 0)\"/>\n      <use xlink:href=\"#DejaVuSans-74\" transform=\"translate(1029.798828 0)\"/>\n      <use xlink:href=\"#DejaVuSans-79\" transform=\"translate(1069.007812 0)\"/>\n     </g>\n    </g>\n    <g id=\"patch_30\">\n     <path d=\"M 298.476 228.96 \nL 333.718105 228.96 \nL 333.718105 214.176 \nL 298.476 214.176 \nz\n\" style=\"fill: #ffffff; stroke: #000000; stroke-linejoin: miter\"/>\n    </g>\n    <g id=\"text_29\">\n     <!-- Γ -->\n     <g transform=\"translate(313.868303 223.7755) scale(0.08 -0.08)\">\n      <defs>\n       <path id=\"DejaVuSans-393\" d=\"M 628 0 \nL 628 4666 \nL 3531 4666 \nL 3531 4134 \nL 1259 4134 \nL 1259 0 \nL 628 0 \nz\n\" transform=\"scale(0.015625)\"/>\n      </defs>\n      <use xlink:href=\"#DejaVuSans-393\"/>\n     </g>\n    </g>\n    <g id=\"patch_31\">\n     <path d=\"M 333.718105 228.96 \nL 465.876 228.96 \nL 465.876 214.176 \nL 333.718105 214.176 \nz\n\" style=\"fill: #ffffff; stroke: #000000; stroke-linejoin: miter\"/>\n    </g>\n    <g id=\"text_30\">\n     <!-- Slipping propensity -->\n     <g transform=\"translate(361.292053 223.7755) scale(0.08 -0.08)\">\n      <use xlink:href=\"#DejaVuSans-53\"/>\n      <use xlink:href=\"#DejaVuSans-6c\" transform=\"translate(63.476562 0)\"/>\n      <use xlink:href=\"#DejaVuSans-69\" transform=\"translate(91.259766 0)\"/>\n      <use xlink:href=\"#DejaVuSans-70\" transform=\"translate(119.042969 0)\"/>\n      <use xlink:href=\"#DejaVuSans-70\" transform=\"translate(182.519531 0)\"/>\n      <use xlink:href=\"#DejaVuSans-69\" transform=\"translate(245.996094 0)\"/>\n      <use xlink:href=\"#DejaVuSans-6e\" transform=\"translate(273.779297 0)\"/>\n      <use xlink:href=\"#DejaVuSans-67\" transform=\"translate(337.158203 0)\"/>\n      <use xlink:href=\"#DejaVuSans-20\" transform=\"translate(400.634766 0)\"/>\n      <use xlink:href=\"#DejaVuSans-70\" transform=\"translate(432.421875 0)\"/>\n      <use xlink:href=\"#DejaVuSans-72\" transform=\"translate(495.898438 0)\"/>\n      <use xlink:href=\"#DejaVuSans-6f\" transform=\"translate(534.761719 0)\"/>\n      <use xlink:href=\"#DejaVuSans-70\" transform=\"translate(595.943359 0)\"/>\n      <use xlink:href=\"#DejaVuSans-65\" transform=\"translate(659.419922 0)\"/>\n      <use xlink:href=\"#DejaVuSans-6e\" transform=\"translate(720.943359 0)\"/>\n      <use xlink:href=\"#DejaVuSans-73\" transform=\"translate(784.322266 0)\"/>\n      <use xlink:href=\"#DejaVuSans-69\" transform=\"translate(836.421875 0)\"/>\n      <use xlink:href=\"#DejaVuSans-74\" transform=\"translate(864.205078 0)\"/>\n      <use xlink:href=\"#DejaVuSans-79\" transform=\"translate(903.414062 0)\"/>\n     </g>\n    </g>\n   </g>\n  </g>\n </g>\n</svg>\n"
          },
          "metadata": {}
        },
        {
          "output_type": "display_data",
          "data": {
            "text/plain": [
              "VBox(children=(FigureWidget({\n",
              "    'data': [{'hovertemplate': '%{x}: %{y:.3f}<extra></extra>',\n",
              "              'm…"
            ],
            "application/vnd.jupyter.widget-view+json": {
              "version_major": 2,
              "version_minor": 0,
              "model_id": "73b74a50d801402d8267ff23750c8eae"
            }
          },
          "metadata": {
            "application/vnd.jupyter.widget-view+json": {
              "colab": {
                "custom_widget_manager": {
                  "url": "https://ssl.gstatic.com/colaboratory-static/widgets/colab-cdn-widget-manager/2b70e893a8ba7c0f/manager.min.js"
                }
              }
            }
          }
        }
      ]
    },
    {
      "cell_type": "code",
      "source": [],
      "metadata": {
        "id": "RNY-AgfTQdb6"
      },
      "execution_count": 15,
      "outputs": []
    }
  ]
}